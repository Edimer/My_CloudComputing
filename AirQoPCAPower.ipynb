{
  "nbformat": 4,
  "nbformat_minor": 0,
  "metadata": {
    "colab": {
      "name": "AirQoPCAPower.ipynb",
      "provenance": [],
      "toc_visible": true,
      "authorship_tag": "ABX9TyP/E+iWyDt7z21HP6+7B037",
      "include_colab_link": true
    },
    "kernelspec": {
      "name": "ir",
      "display_name": "R"
    }
  },
  "cells": [
    {
      "cell_type": "markdown",
      "metadata": {
        "id": "view-in-github",
        "colab_type": "text"
      },
      "source": [
        "<a href=\"https://colab.research.google.com/github/Edimer/My_CloudComputing/blob/master/AirQoPCAPower.ipynb\" target=\"_parent\"><img src=\"https://colab.research.google.com/assets/colab-badge.svg\" alt=\"Open In Colab\"/></a>"
      ]
    },
    {
      "cell_type": "markdown",
      "metadata": {
        "id": "X3nqyDecrYTW",
        "colab_type": "text"
      },
      "source": [
        "AirQo Ugandan Air Quality Forecast Challenge\n",
        "===========================================\n",
        "Sidereus"
      ]
    },
    {
      "cell_type": "markdown",
      "metadata": {
        "id": "skzPvLbatYpy",
        "colab_type": "text"
      },
      "source": [
        "## Packages"
      ]
    },
    {
      "cell_type": "code",
      "metadata": {
        "id": "O9gC8PhnrTIC",
        "colab_type": "code",
        "colab": {}
      },
      "source": [
        "#install.packages(\"h2o\", dependencies = TRUE)\n",
        "library(tidyverse)\n",
        "library(h2o)"
      ],
      "execution_count": 0,
      "outputs": []
    },
    {
      "cell_type": "markdown",
      "metadata": {
        "id": "yRDn4mUWt_el",
        "colab_type": "text"
      },
      "source": [
        "## Import data"
      ]
    },
    {
      "cell_type": "code",
      "metadata": {
        "id": "3q66egHKtYZy",
        "colab_type": "code",
        "colab": {}
      },
      "source": [
        "load(\"/content/dataTest_Originales.Rdata\")\n",
        "load(\"/content/dataTrain_Originales.Rdata\")"
      ],
      "execution_count": 0,
      "outputs": []
    },
    {
      "cell_type": "markdown",
      "metadata": {
        "id": "GjbPoBxnvTZZ",
        "colab_type": "text"
      },
      "source": [
        "## PCA (Method = \"power\")\n",
        "\n",
        "- [Documentation Principal Components with h2o.](https://docs.h2o.ai/h2o/latest-stable/h2o-docs/data-science/pca.html)"
      ]
    },
    {
      "cell_type": "markdown",
      "metadata": {
        "id": "rgvMxEhXyp2X",
        "colab_type": "text"
      },
      "source": [
        "### Starting h2o and data in format h2o"
      ]
    },
    {
      "cell_type": "code",
      "metadata": {
        "id": "lZggqQMhvYE2",
        "colab_type": "code",
        "colab": {
          "base_uri": "https://localhost:8080/",
          "height": 408
        },
        "outputId": "7a29e4d6-ba9f-49aa-e6f1-0313073fb159"
      },
      "source": [
        "# Starting h2o\n",
        "h2o.init(nthreads = -1, port = 54321, max_mem_size = \"10g\")\n",
        "\n",
        "# Train data\n",
        "dataTrainPCA <- dataTrain %>% select(-c(ID, target))\n",
        "targetTrain <- dataTrain %>% pull(target)\n",
        "\n",
        "# Test data\n",
        "dataTestPCA <- dataTest %>% select(-ID)\n",
        "\n",
        "# Train and test in format h2o\n",
        "trainH2o <- as.h2o(dataTrainPCA)\n",
        "testH2o <- as.h2o(dataTestPCA)"
      ],
      "execution_count": 4,
      "outputs": [
        {
          "output_type": "stream",
          "text": [
            " Connection successful!\n",
            "\n",
            "R is connected to the H2O cluster: \n",
            "    H2O cluster uptime:         35 minutes 8 seconds \n",
            "    H2O cluster timezone:       Etc/UTC \n",
            "    H2O data parsing timezone:  UTC \n",
            "    H2O cluster version:        3.30.0.1 \n",
            "    H2O cluster version age:    1 month and 7 days  \n",
            "    H2O cluster name:           H2O_started_from_R_root_taq814 \n",
            "    H2O cluster total nodes:    1 \n",
            "    H2O cluster total memory:   9.60 GB \n",
            "    H2O cluster total cores:    2 \n",
            "    H2O cluster allowed cores:  2 \n",
            "    H2O cluster healthy:        TRUE \n",
            "    H2O Connection ip:          localhost \n",
            "    H2O Connection port:        54321 \n",
            "    H2O Connection proxy:       NA \n",
            "    H2O Internal Security:      FALSE \n",
            "    H2O API Extensions:         Amazon S3, XGBoost, Algos, AutoML, Core V3, TargetEncoder, Core V4 \n",
            "    R Version:                  R version 3.6.3 (2020-02-29) \n",
            "\n",
            "  |======================================================================| 100%\n",
            "  |======================================================================| 100%\n"
          ],
          "name": "stdout"
        }
      ]
    },
    {
      "cell_type": "markdown",
      "metadata": {
        "id": "w9arHCYP1U61",
        "colab_type": "text"
      },
      "source": [
        "### Model PCA with method=\"power\"\n",
        "\n",
        "- In this model I use imputation."
      ]
    },
    {
      "cell_type": "code",
      "metadata": {
        "id": "DwXxeU2Y1aYh",
        "colab_type": "code",
        "colab": {
          "base_uri": "https://localhost:8080/",
          "height": 85
        },
        "outputId": "a6e04506-8f27-4be2-f985-8b643a812a4e"
      },
      "source": [
        "modelPCA <- h2o.prcomp(training_frame = trainH2o, transform = \"STANDARDIZE\",\n",
        "                       k = 9, pca_method = \"Power\", use_all_factor_levels = TRUE,\n",
        "                       impute_missing = TRUE, model_id = \"PCA_Power\", seed = 123,\n",
        "                       max_runtime_secs = 3600)"
      ],
      "execution_count": 5,
      "outputs": [
        {
          "output_type": "stream",
          "text": [
            "Warning message in .h2o.processResponseWarnings(res):\n",
            "“Dropping bad and constant columns: [precMinTotal].\n",
            "”\n"
          ],
          "name": "stderr"
        },
        {
          "output_type": "stream",
          "text": [
            "  |======================================================================| 100%\n"
          ],
          "name": "stdout"
        }
      ]
    },
    {
      "cell_type": "markdown",
      "metadata": {
        "id": "-dSU0RZi5fjW",
        "colab_type": "text"
      },
      "source": [
        "- **Model summary:**"
      ]
    },
    {
      "cell_type": "code",
      "metadata": {
        "id": "0JJiyDty5lqa",
        "colab_type": "code",
        "colab": {
          "base_uri": "https://localhost:8080/",
          "height": 141
        },
        "outputId": "7aff685e-e3f4-49c7-c2a5-4d2712b4f397"
      },
      "source": [
        "modelPCA@model$importance"
      ],
      "execution_count": 6,
      "outputs": [
        {
          "output_type": "display_data",
          "data": {
            "text/plain": [
              "                       pc1        pc2        pc3        pc4        pc5       \n",
              "Standard deviation     12.0908226 9.26767192 8.95476583 8.77588307 4.73614263\n",
              "Proportion of Variance  0.1624311 0.09543304 0.08909758 0.08557346 0.02492338\n",
              "Cumulative Proportion   0.1624311 0.25786413 0.34696171 0.43253518 0.45745856\n",
              "                       pc6        pc7       pc8       pc9        \n",
              "Standard deviation     3.74440670 3.5924675 3.4259820 2.997724991\n",
              "Proportion of Variance 0.01557842 0.0143398 0.0130415 0.009984838\n",
              "Cumulative Proportion  0.47303698 0.4873768 0.5004183 0.510403126"
            ],
            "text/latex": "A H2OTable: 3 × 9\n\\begin{tabular}{r|lllllllll}\n  & pc1 & pc2 & pc3 & pc4 & pc5 & pc6 & pc7 & pc8 & pc9\\\\\n  & <dbl> & <dbl> & <dbl> & <dbl> & <dbl> & <dbl> & <dbl> & <dbl> & <dbl>\\\\\n\\hline\n\tStandard deviation & 12.0908226 & 9.26767192 & 8.95476583 & 8.77588307 & 4.73614263 & 3.74440670 & 3.5924675 & 3.4259820 & 2.997724991\\\\\n\tProportion of Variance &  0.1624311 & 0.09543304 & 0.08909758 & 0.08557346 & 0.02492338 & 0.01557842 & 0.0143398 & 0.0130415 & 0.009984838\\\\\n\tCumulative Proportion &  0.1624311 & 0.25786413 & 0.34696171 & 0.43253518 & 0.45745856 & 0.47303698 & 0.4873768 & 0.5004183 & 0.510403126\\\\\n\\end{tabular}\n",
            "text/markdown": "\nA H2OTable: 3 × 9\n\n| <!--/--> | pc1 &lt;dbl&gt; | pc2 &lt;dbl&gt; | pc3 &lt;dbl&gt; | pc4 &lt;dbl&gt; | pc5 &lt;dbl&gt; | pc6 &lt;dbl&gt; | pc7 &lt;dbl&gt; | pc8 &lt;dbl&gt; | pc9 &lt;dbl&gt; |\n|---|---|---|---|---|---|---|---|---|---|\n| Standard deviation | 12.0908226 | 9.26767192 | 8.95476583 | 8.77588307 | 4.73614263 | 3.74440670 | 3.5924675 | 3.4259820 | 2.997724991 |\n| Proportion of Variance |  0.1624311 | 0.09543304 | 0.08909758 | 0.08557346 | 0.02492338 | 0.01557842 | 0.0143398 | 0.0130415 | 0.009984838 |\n| Cumulative Proportion |  0.1624311 | 0.25786413 | 0.34696171 | 0.43253518 | 0.45745856 | 0.47303698 | 0.4873768 | 0.5004183 | 0.510403126 |\n\n",
            "text/html": [
              "<table>\n",
              "<caption>A H2OTable: 3 × 9</caption>\n",
              "<thead>\n",
              "\t<tr><th></th><th scope=col>pc1</th><th scope=col>pc2</th><th scope=col>pc3</th><th scope=col>pc4</th><th scope=col>pc5</th><th scope=col>pc6</th><th scope=col>pc7</th><th scope=col>pc8</th><th scope=col>pc9</th></tr>\n",
              "\t<tr><th></th><th scope=col>&lt;dbl&gt;</th><th scope=col>&lt;dbl&gt;</th><th scope=col>&lt;dbl&gt;</th><th scope=col>&lt;dbl&gt;</th><th scope=col>&lt;dbl&gt;</th><th scope=col>&lt;dbl&gt;</th><th scope=col>&lt;dbl&gt;</th><th scope=col>&lt;dbl&gt;</th><th scope=col>&lt;dbl&gt;</th></tr>\n",
              "</thead>\n",
              "<tbody>\n",
              "\t<tr><th scope=row>Standard deviation</th><td>12.0908226</td><td>9.26767192</td><td>8.95476583</td><td>8.77588307</td><td>4.73614263</td><td>3.74440670</td><td>3.5924675</td><td>3.4259820</td><td>2.997724991</td></tr>\n",
              "\t<tr><th scope=row>Proportion of Variance</th><td> 0.1624311</td><td>0.09543304</td><td>0.08909758</td><td>0.08557346</td><td>0.02492338</td><td>0.01557842</td><td>0.0143398</td><td>0.0130415</td><td>0.009984838</td></tr>\n",
              "\t<tr><th scope=row>Cumulative Proportion</th><td> 0.1624311</td><td>0.25786413</td><td>0.34696171</td><td>0.43253518</td><td>0.45745856</td><td>0.47303698</td><td>0.4873768</td><td>0.5004183</td><td>0.510403126</td></tr>\n",
              "</tbody>\n",
              "</table>\n"
            ]
          },
          "metadata": {
            "tags": []
          }
        }
      ]
    },
    {
      "cell_type": "markdown",
      "metadata": {
        "id": "6b295ITk6sIi",
        "colab_type": "text"
      },
      "source": [
        "- **New data with PCA:**"
      ]
    },
    {
      "cell_type": "code",
      "metadata": {
        "id": "3g0WeBSi63Wf",
        "colab_type": "code",
        "colab": {
          "base_uri": "https://localhost:8080/",
          "height": 51
        },
        "outputId": "91846b33-c0df-4795-ed51-9627602016ec"
      },
      "source": [
        "# Train\n",
        "trainPCA <- h2o.predict(modelPCA, trainH2o)\n",
        "testPCA <- h2o.predict(modelPCA, testH2o)"
      ],
      "execution_count": 8,
      "outputs": [
        {
          "output_type": "stream",
          "text": [
            "  |======================================================================| 100%\n",
            "  |======================================================================| 100%\n"
          ],
          "name": "stdout"
        }
      ]
    },
    {
      "cell_type": "markdown",
      "metadata": {
        "id": "RucHqjIZBU_8",
        "colab_type": "text"
      },
      "source": [
        "- **Data to R:**"
      ]
    },
    {
      "cell_type": "code",
      "metadata": {
        "id": "WQlOq56jBkeP",
        "colab_type": "code",
        "colab": {}
      },
      "source": [
        "# Train\n",
        "dfTrain <- as.data.frame(trainPCA)\n",
        "dfTrain$target <- targetTrain\n",
        "\n",
        "# Test\n",
        "dfTest <- as.data.frame(testPCA)\n",
        "dfTest$ID <- dataTest$ID"
      ],
      "execution_count": 0,
      "outputs": []
    },
    {
      "cell_type": "markdown",
      "metadata": {
        "id": "mV64UsJ8B-NK",
        "colab_type": "text"
      },
      "source": [
        "- **Export data:**"
      ]
    },
    {
      "cell_type": "code",
      "metadata": {
        "id": "KC_tOPxWCReM",
        "colab_type": "code",
        "colab": {}
      },
      "source": [
        "save(dfTrain, file = \"trainPCAPower.Rdata\", compress = \"xz\")\n",
        "save(dfTest, file = \"testPCAPower.Rdata\", compress = \"xz\")"
      ],
      "execution_count": 0,
      "outputs": []
    }
  ]
}