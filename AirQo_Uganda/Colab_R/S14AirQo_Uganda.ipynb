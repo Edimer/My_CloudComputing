{
  "nbformat": 4,
  "nbformat_minor": 0,
  "metadata": {
    "colab": {
      "name": "S14AirQo_Uganda",
      "provenance": [],
      "collapsed_sections": [],
      "authorship_tag": "ABX9TyNgxRDYqjAX4dNZoXFW0pFB",
      "include_colab_link": true
    },
    "kernelspec": {
      "name": "ir",
      "display_name": "R"
    }
  },
  "cells": [
    {
      "cell_type": "markdown",
      "metadata": {
        "id": "view-in-github",
        "colab_type": "text"
      },
      "source": [
        "<a href=\"https://colab.research.google.com/github/Edimer/My_CloudComputing/blob/master/S14AirQo_Uganda.ipynb\" target=\"_parent\"><img src=\"https://colab.research.google.com/assets/colab-badge.svg\" alt=\"Open In Colab\"/></a>"
      ]
    },
    {
      "cell_type": "markdown",
      "metadata": {
        "id": "kEOtW2XbumAR",
        "colab_type": "text"
      },
      "source": [
        "[AirQo Ugandan Air Quality Forecast Challenge](https://zindi.africa/competitions/airqo-ugandan-air-quality-forecast-challenge)\n",
        "===========================================\n",
        "### Modelos XGBoost con H2o en R\n",
        "\n",
        "[Edimer David Jaramillo ](https://edimer.github.io/)  \n",
        "Abril de 2020"
      ]
    },
    {
      "cell_type": "markdown",
      "metadata": {
        "id": "0aDHugk6vWhT",
        "colab_type": "text"
      },
      "source": [
        "## Instalación de H2o y carga de bibliotecas"
      ]
    },
    {
      "cell_type": "code",
      "metadata": {
        "id": "nwGDtACYukBp",
        "colab_type": "code",
        "colab": {}
      },
      "source": [
        "install.packages(\"h2o\", dependencies = TRUE)\n",
        "library(h2o)\n",
        "library(tidyverse)"
      ],
      "execution_count": 0,
      "outputs": []
    },
    {
      "cell_type": "markdown",
      "metadata": {
        "id": "C7aeczfhyBV5",
        "colab_type": "text"
      },
      "source": [
        "## Cargando datos"
      ]
    },
    {
      "cell_type": "code",
      "metadata": {
        "id": "IdPLuPUCvsX5",
        "colab_type": "code",
        "colab": {}
      },
      "source": [
        "load(\"/content/dataTest_Originales.Rdata\")\n",
        "load(\"/content/dataTrain_Originales.Rdata\")"
      ],
      "execution_count": 0,
      "outputs": []
    },
    {
      "cell_type": "markdown",
      "metadata": {
        "id": "kff5Su7e0DJ7",
        "colab_type": "text"
      },
      "source": [
        "## Distribución de variable respuesta"
      ]
    },
    {
      "cell_type": "code",
      "metadata": {
        "id": "ZTvsNQtA0GhD",
        "colab_type": "code",
        "outputId": "df0192c8-797b-4d2a-e4e0-1717f170fa22",
        "colab": {
          "base_uri": "https://localhost:8080/",
          "height": 437
        }
      },
      "source": [
        "par(mfrow = c(1, 2))\n",
        "hist(dataTrain$target, main = \"Original\")\n",
        "hist(log(dataTrain$target), main = \"Logaritmo\")"
      ],
      "execution_count": 7,
      "outputs": [
        {
          "output_type": "display_data",
          "data": {
            "image/png": "[encoded data removed]",
            "text/plain": [
              "Plot with title “Logaritmo”"
            ]
          },
          "metadata": {
            "tags": [],
            "image/png": {
              "width": 420,
              "height": 420
            },
            "text/plain": {
              "width": 420,
              "height": 420
            }
          }
        }
      ]
    },
    {
      "cell_type": "markdown",
      "metadata": {
        "id": "BspCnsPryMEH",
        "colab_type": "text"
      },
      "source": [
        "## Preparación de datos"
      ]
    },
    {
      "cell_type": "code",
      "metadata": {
        "id": "mQWaQb82ybJ4",
        "colab_type": "code",
        "outputId": "dca174bd-5150-43a9-b85b-75d62e3b5ceb",
        "colab": {
          "base_uri": "https://localhost:8080/",
          "height": 391
        }
      },
      "source": [
        "# Iniciando h2o\n",
        "h2o.init(nthreads = -1, port = 54321, max_mem_size = \"10g\")\n",
        "\n",
        "# df_train y df_test\n",
        "df_train <- dataTrain %>% \n",
        "  select(-ID) %>%\n",
        "  #mutate(target = log(target)) %>%\n",
        "  mutate_at(vars(T1:T121, WS1:WS121), log)\n",
        "\n",
        "datos_h2o <- as.h2o(x = df_train, destination_frame = \"datos_h2o\")\n",
        "particiones <- h2o.splitFrame(data = datos_h2o, ratios = c(0.7, 0.20),\n",
        "                              seed = 123)\n",
        "datos_train_h2o <- h2o.assign(data = particiones[[1]], key = \"datos_train_h2o\")\n",
        "datos_val_h2o   <- h2o.assign(data = particiones[[2]], key = \"datos_val_h2o\")\n",
        "datos_test_h2o  <- h2o.assign(data = particiones[[3]], key = \"datos_test_h2o\")\n",
        "\n",
        "# Variable respuesta y predictores\n",
        "var_respuesta <- \"target\"\n",
        "predictores   <- setdiff(h2o.colnames(datos_train_h2o), var_respuesta)"
      ],
      "execution_count": 28,
      "outputs": [
        {
          "output_type": "stream",
          "text": [
            " Connection successful!\n",
            "\n",
            "R is connected to the H2O cluster: \n",
            "    H2O cluster uptime:         3 hours 56 minutes \n",
            "    H2O cluster timezone:       Etc/UTC \n",
            "    H2O data parsing timezone:  UTC \n",
            "    H2O cluster version:        3.30.0.1 \n",
            "    H2O cluster version age:    12 days  \n",
            "    H2O cluster name:           H2O_started_from_R_root_uzf880 \n",
            "    H2O cluster total nodes:    1 \n",
            "    H2O cluster total memory:   9.86 GB \n",
            "    H2O cluster total cores:    2 \n",
            "    H2O cluster allowed cores:  2 \n",
            "    H2O cluster healthy:        TRUE \n",
            "    H2O Connection ip:          localhost \n",
            "    H2O Connection port:        54321 \n",
            "    H2O Connection proxy:       NA \n",
            "    H2O Internal Security:      FALSE \n",
            "    H2O API Extensions:         Amazon S3, XGBoost, Algos, AutoML, Core V3, TargetEncoder, Core V4 \n",
            "    R Version:                  R version 3.6.3 (2020-02-29) \n",
            "\n",
            "  |======================================================================| 100%\n"
          ],
          "name": "stdout"
        }
      ]
    },
    {
      "cell_type": "markdown",
      "metadata": {
        "id": "8gUrdlszy21V",
        "colab_type": "text"
      },
      "source": [
        "## Modelo XGBoost"
      ]
    },
    {
      "cell_type": "code",
      "metadata": {
        "id": "4WQQAyWWz4jA",
        "colab_type": "code",
        "outputId": "8a896683-1388-4f87-d903-7340fc5301b5",
        "colab": {
          "base_uri": "https://localhost:8080/",
          "height": 85
        }
      },
      "source": [
        "xgb <- h2o.xgboost(x = predictores\n",
        "                  ,y = var_respuesta\n",
        "                  ,training_frame = datos_train_h2o\n",
        "                  ,validation_frame = datos_val_h2o\n",
        "                  ,model_id = \"xgb1\"\n",
        "                  ,stopping_rounds = 50\n",
        "                  ,stopping_metric = \"RMSE\"\n",
        "                  ,distribution = \"gaussian\"\n",
        "                  ,score_tree_interval = 1\n",
        "                  ,learn_rate=0.1\n",
        "                  ,ntrees=10000\n",
        "                  ,subsample = 0.9\n",
        "                  ,colsample_bytree = 0.7\n",
        "                  ,tree_method = \"hist\"\n",
        "                  ,grow_policy = \"lossguide\"\n",
        "                  ,booster = \"gbtree\"\n",
        "                  ,gamma = 0 #default\n",
        "                  ,nfolds = 10\n",
        "                  ,seed = 123\n",
        "                  ,max_depth = 0 #without limit\n",
        "                  ,min_rows = 50 #alias min_child_weight\n",
        "                  ,max_leaves = 350\n",
        "                  ,max_bins = 256 #(default)\n",
        "                  ,min_sum_hessian_in_leaf = 100\n",
        "                  ,max_runtime_secs = 3600)"
      ],
      "execution_count": 29,
      "outputs": [
        {
          "output_type": "stream",
          "text": [
            "Warning message in .h2o.processResponseWarnings(res):\n",
            "“Dropping bad and constant columns: [precMinTotal].\n",
            "”\n"
          ],
          "name": "stderr"
        },
        {
          "output_type": "stream",
          "text": [
            "  |======================================================================| 100%\n"
          ],
          "name": "stdout"
        }
      ]
    },
    {
      "cell_type": "markdown",
      "metadata": {
        "id": "9pOD0cdn8EEj",
        "colab_type": "text"
      },
      "source": [
        "## Resultados del modelo XGBoost"
      ]
    },
    {
      "cell_type": "code",
      "metadata": {
        "id": "IlnIQUlB8F1j",
        "colab_type": "code",
        "outputId": "7184ce43-45ca-4dd4-979a-7d59af882e43",
        "colab": {
          "base_uri": "https://localhost:8080/",
          "height": 1000
        }
      },
      "source": [
        "xgb"
      ],
      "execution_count": 30,
      "outputs": [
        {
          "output_type": "display_data",
          "data": {
            "text/plain": [
              "Model Details:\n",
              "==============\n",
              "\n",
              "H2ORegressionModel: xgboost\n",
              "Model ID:  xgb1 \n",
              "Model Summary: \n",
              "  number_of_trees\n",
              "1             193\n",
              "\n",
              "\n",
              "H2ORegressionMetrics: xgboost\n",
              "** Reported on training data. **\n",
              "\n",
              "MSE:  27.69131\n",
              "RMSE:  5.262253\n",
              "MAE:  2.128996\n",
              "RMSLE:  0.05811625\n",
              "Mean Residual Deviance :  27.69131\n",
              "\n",
              "\n",
              "H2ORegressionMetrics: xgboost\n",
              "** Reported on validation data. **\n",
              "\n",
              "MSE:  618.8964\n",
              "RMSE:  24.87763\n",
              "MAE:  15.19746\n",
              "RMSLE:  0.354188\n",
              "Mean Residual Deviance :  618.8964\n",
              "\n",
              "\n",
              "H2ORegressionMetrics: xgboost\n",
              "** Reported on cross-validation data. **\n",
              "** 10-fold cross-validation on training data (Metrics computed for combined holdout predictions) **\n",
              "\n",
              "MSE:  659.9888\n",
              "RMSE:  25.69025\n",
              "MAE:  15.77919\n",
              "RMSLE:  0.3615603\n",
              "Mean Residual Deviance :  659.9888\n",
              "\n",
              "\n",
              "Cross-Validation Metrics Summary: \n",
              "                             mean          sd cv_1_valid cv_2_valid cv_3_valid\n",
              "mae                     15.790663  0.43859285  15.443479  15.668994  15.542156\n",
              "mean_residual_deviance  662.16003    92.46221   635.5646  649.37274   550.5044\n",
              "mse                     662.16003    92.46221   635.5646  649.37274   550.5044\n",
              "r2                     0.63334364 0.022001324 0.65341026 0.64999205  0.6353667\n",
              "residual_deviance       662.16003    92.46221   635.5646  649.37274   550.5044\n",
              "rmse                    25.679882   1.7332518  25.210405  25.482794  23.462831\n",
              "rmsle                   0.3614905 0.009147673 0.35540065 0.36281908 0.34932068\n",
              "                       cv_4_valid cv_5_valid cv_6_valid cv_7_valid cv_8_valid\n",
              "mae                     15.724607  16.721775  15.583532  15.518323  15.659404\n",
              "mean_residual_deviance   676.5505     737.29  653.22235   618.4567  579.69006\n",
              "mse                      676.5505     737.29  653.22235   618.4567  579.69006\n",
              "r2                     0.61225843  0.6125913  0.6276043  0.6601079  0.5913968\n",
              "residual_deviance        676.5505     737.29  653.22235   618.4567  579.69006\n",
              "rmse                    26.010584  27.153084  25.558214   24.86879  24.076754\n",
              "rmsle                  0.36690706 0.37410247 0.36809215  0.3658353 0.37068272\n",
              "                       cv_9_valid cv_10_valid\n",
              "mae                     15.563186   16.481169\n",
              "mean_residual_deviance  638.75507    882.1941\n",
              "mse                     638.75507    882.1941\n",
              "r2                      0.6454775  0.64523125\n",
              "residual_deviance       638.75507    882.1941\n",
              "rmse                    25.273605   29.701752\n",
              "rmsle                  0.34924212   0.3525025"
            ]
          },
          "metadata": {
            "tags": []
          }
        }
      ]
    },
    {
      "cell_type": "markdown",
      "metadata": {
        "id": "8tI8mngr60VE",
        "colab_type": "text"
      },
      "source": [
        "## Predicciones"
      ]
    },
    {
      "cell_type": "code",
      "metadata": {
        "id": "fy42s8RH62XR",
        "colab_type": "code",
        "outputId": "b832c814-e4e6-45e1-b300-70c42acde3bc",
        "colab": {
          "base_uri": "https://localhost:8080/",
          "height": 85
        }
      },
      "source": [
        "# Train\n",
        "predichos_train <- h2o.predict(xgb, datos_train_h2o) %>%\n",
        "  as.data.frame() %>% pull(predict)\n",
        "\n",
        "# Test (Train)\n",
        "predichos_test <- h2o.predict(xgb, datos_test_h2o) %>%\n",
        "  as.data.frame() %>% pull(predict)\n",
        "\n",
        "# Test (Submission)\n",
        "predichos_subm <- h2o.predict(xgb, as.h2o(dataTest)) %>%\n",
        "  as.data.frame() %>% pull(predict)\n",
        "\n",
        "dataTest %>% \n",
        "  select(ID) %>% \n",
        "  mutate(target = predichos_subm) ->\n",
        "  subm14\n",
        "\n",
        "# Exportando predicciones\n",
        "write.csv(subm14, file = \"subm14.csv\", row.names = FALSE)"
      ],
      "execution_count": 35,
      "outputs": [
        {
          "output_type": "stream",
          "text": [
            "  |======================================================================| 100%\n",
            "  |======================================================================| 100%\n",
            "  |======================================================================| 100%\n",
            "  |======================================================================| 100%\n"
          ],
          "name": "stdout"
        }
      ]
    },
    {
      "cell_type": "markdown",
      "metadata": {
        "id": "sykDmSES8N60",
        "colab_type": "text"
      },
      "source": [
        "## RMSE Train y Test (train)"
      ]
    },
    {
      "cell_type": "code",
      "metadata": {
        "id": "VeTlWQdb8QBz",
        "colab_type": "code",
        "outputId": "04db40f0-06d0-4c2d-a0e6-db6b68d7d3c9",
        "colab": {
          "base_uri": "https://localhost:8080/",
          "height": 137
        }
      },
      "source": [
        "# Función\n",
        "RMSE <- function(pred, obs, na.rm = FALSE){\n",
        "  sqrt(mean((pred - obs)^2, na.rm = na.rm))\n",
        "}\n",
        "\n",
        "data.frame(\n",
        "  data = c(\"Train\", \"Test\"),\n",
        "  RMSE = c(RMSE(pred = predichos_train, obs = as.vector(datos_train_h2o$target)),\n",
        "           RMSE(pred = predichos_test, obs = as.vector(datos_test_h2o$target)))\n",
        ")"
      ],
      "execution_count": 36,
      "outputs": [
        {
          "output_type": "display_data",
          "data": {
            "text/plain": [
              "  data  RMSE     \n",
              "1 Train  5.262253\n",
              "2 Test  25.306832"
            ],
            "text/latex": "A data.frame: 2 × 2\n\\begin{tabular}{ll}\n data & RMSE\\\\\n <fct> & <dbl>\\\\\n\\hline\n\t Train &  5.262253\\\\\n\t Test  & 25.306832\\\\\n\\end{tabular}\n",
            "text/markdown": "\nA data.frame: 2 × 2\n\n| data &lt;fct&gt; | RMSE &lt;dbl&gt; |\n|---|---|\n| Train |  5.262253 |\n| Test  | 25.306832 |\n\n",
            "text/html": [
              "<table>\n",
              "<caption>A data.frame: 2 × 2</caption>\n",
              "<thead>\n",
              "\t<tr><th scope=col>data</th><th scope=col>RMSE</th></tr>\n",
              "\t<tr><th scope=col>&lt;fct&gt;</th><th scope=col>&lt;dbl&gt;</th></tr>\n",
              "</thead>\n",
              "<tbody>\n",
              "\t<tr><td>Train</td><td> 5.262253</td></tr>\n",
              "\t<tr><td>Test </td><td>25.306832</td></tr>\n",
              "</tbody>\n",
              "</table>\n"
            ]
          },
          "metadata": {
            "tags": []
          }
        }
      ]
    },
    {
      "cell_type": "markdown",
      "metadata": {
        "id": "ULk7o7C67ofp",
        "colab_type": "text"
      },
      "source": [
        "## Importancia de variables"
      ]
    },
    {
      "cell_type": "code",
      "metadata": {
        "id": "03ubGaqb7qUa",
        "colab_type": "code",
        "outputId": "ba84e967-2a43-4c12-bb1b-356a6b151399",
        "colab": {
          "base_uri": "https://localhost:8080/",
          "height": 437
        }
      },
      "source": [
        "h2o.varimp_plot(xgb, num_of_features = 30)"
      ],
      "execution_count": 37,
      "outputs": [
        {
          "output_type": "display_data",
          "data": {
            "image/png": "[encoded data removed]",
            "text/plain": [
              "Plot with title “Variable Importance: XGBOOST”"
            ]
          },
          "metadata": {
            "tags": [],
            "image/png": {
              "width": 420,
              "height": 420
            },
            "text/plain": {
              "width": 420,
              "height": 420
            }
          }
        }
      ]
    },
    {
      "cell_type": "markdown",
      "metadata": {
        "id": "51r0GheG7t6K",
        "colab_type": "text"
      },
      "source": [
        "## Guardando modelo"
      ]
    },
    {
      "cell_type": "code",
      "metadata": {
        "id": "izvaVHkZ7vVy",
        "colab_type": "code",
        "colab": {
          "base_uri": "https://localhost:8080/",
          "height": 34
        },
        "outputId": "3e68c774-fdc5-4c41-facc-1d5b71c13798"
      },
      "source": [
        "h2o.saveModel(xgb, path = \"XGB_S14\", force = TRUE)"
      ],
      "execution_count": 38,
      "outputs": [
        {
          "output_type": "display_data",
          "data": {
            "text/plain": [
              "[1] \"/content/XGB_S14/xgb1\""
            ],
            "text/latex": "'/content/XGB\\_S14/xgb1'",
            "text/markdown": "'/content/XGB_S14/xgb1'",
            "text/html": [
              "'/content/XGB_S14/xgb1'"
            ]
          },
          "metadata": {
            "tags": []
          }
        }
      ]
    }
  ]
}