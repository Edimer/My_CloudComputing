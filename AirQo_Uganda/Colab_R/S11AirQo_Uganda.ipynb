{
  "nbformat": 4,
  "nbformat_minor": 0,
  "metadata": {
    "colab": {
      "name": "S11AirQo_Uganda",
      "provenance": [],
      "collapsed_sections": [],
      "toc_visible": true,
      "authorship_tag": "ABX9TyMyKk14uQRvDyOEwzBygQ6Z"
    },
    "kernelspec": {
      "name": "ir",
      "display_name": "R"
    }
  },
  "cells": [
    {
      "cell_type": "markdown",
      "metadata": {
        "id": "kEOtW2XbumAR",
        "colab_type": "text"
      },
      "source": [
        "[AirQo Ugandan Air Quality Forecast Challenge](https://zindi.africa/competitions/airqo-ugandan-air-quality-forecast-challenge)\n",
        "===========================================\n",
        "### Modelos XGBoost con H2o en R\n",
        "\n",
        "[Edimer David Jaramillo ](https://edimer.github.io/)  \n",
        "Abril de 2020"
      ]
    },
    {
      "cell_type": "markdown",
      "metadata": {
        "id": "0aDHugk6vWhT",
        "colab_type": "text"
      },
      "source": [
        "## Instalación de H2o y carga de bibliotecas"
      ]
    },
    {
      "cell_type": "markdown",
      "metadata": {
        "id": "C7aeczfhyBV5",
        "colab_type": "text"
      },
      "source": [
        "## Cargando datos"
      ]
    },
    {
      "cell_type": "code",
      "metadata": {
        "id": "IdPLuPUCvsX5",
        "colab_type": "code",
        "colab": {}
      },
      "source": [
        "load(\"/content/df_acha_train.Rdata\")\n",
        "load(\"/content/df_acha_test.Rdata\")"
      ],
      "execution_count": 0,
      "outputs": []
    },
    {
      "cell_type": "markdown",
      "metadata": {
        "id": "kff5Su7e0DJ7",
        "colab_type": "text"
      },
      "source": [
        "## Distribución de variable respuesta"
      ]
    },
    {
      "cell_type": "code",
      "metadata": {
        "id": "ZTvsNQtA0GhD",
        "colab_type": "code",
        "outputId": "30b1935b-a80d-4bf0-b418-0183f8737f72",
        "colab": {
          "base_uri": "https://localhost:8080/",
          "height": 437
        }
      },
      "source": [
        "par(mfrow = c(1, 2))\n",
        "hist(df_ancha_train$target, main = \"Original\")\n",
        "hist(log(df_ancha_train$target), main = \"Logaritmo\")"
      ],
      "execution_count": 13,
      "outputs": [
        {
          "output_type": "display_data",
          "data": {
            "image/png": "[encoded data removed]",
            "text/plain": [
              "Plot with title “Logaritmo”"
            ]
          },
          "metadata": {
            "tags": [],
            "image/png": {
              "width": 420,
              "height": 420
            },
            "text/plain": {
              "width": 420,
              "height": 420
            }
          }
        }
      ]
    },
    {
      "cell_type": "markdown",
      "metadata": {
        "id": "BspCnsPryMEH",
        "colab_type": "text"
      },
      "source": [
        "## Preparación de datos"
      ]
    },
    {
      "cell_type": "code",
      "metadata": {
        "id": "mQWaQb82ybJ4",
        "colab_type": "code",
        "colab": {}
      },
      "source": [
        "# Iniciando h2o\n",
        "h2o.init(nthreads = -1, port = 54321, max_mem_size = \"10g\")\n",
        "\n",
        "# df_train y df_test\n",
        "df_train <- df_ancha_train %>% \n",
        "  select(-ID) %>%\n",
        "  mutate(target = log(target))\n",
        "\n",
        "datos_h2o <- as.h2o(x = df_train, destination_frame = \"datos_h2o\")\n",
        "particiones <- h2o.splitFrame(data = datos_h2o, ratios = c(0.7, 0.20),\n",
        "                              seed = 123)\n",
        "datos_train_h2o <- h2o.assign(data = particiones[[1]], key = \"datos_train_h2o\")\n",
        "datos_val_h2o   <- h2o.assign(data = particiones[[2]], key = \"datos_val_h2o\")\n",
        "datos_test_h2o  <- h2o.assign(data = particiones[[3]], key = \"datos_test_h2o\")\n",
        "\n",
        "# Variable respuesta y predictores\n",
        "var_respuesta <- \"target\"\n",
        "predictores   <- setdiff(h2o.colnames(datos_train_h2o), var_respuesta)"
      ],
      "execution_count": 0,
      "outputs": []
    },
    {
      "cell_type": "markdown",
      "metadata": {
        "id": "8gUrdlszy21V",
        "colab_type": "text"
      },
      "source": [
        "## Modelo XGBoost"
      ]
    },
    {
      "cell_type": "code",
      "metadata": {
        "id": "4WQQAyWWz4jA",
        "colab_type": "code",
        "colab": {}
      },
      "source": [
        "xgb <- h2o.xgboost(\n",
        "                  # General\n",
        "                  ,x = predictores\n",
        "                  ,y = var_respuesta\n",
        "                  ,training_frame = datos_train_h2o\n",
        "                  ,validation_frame = datos_val_h2o\n",
        "                  ,model_id = \"xgb4\"  \n",
        "                  ,stopping_metric = \"RMSE\"\n",
        "                  ,distribution = \"gaussian\"\n",
        "\n",
        "                  # Learning                \n",
        "                  ,learn_rate=0.1\n",
        "                  ,ntrees=5000\n",
        "                  ,verbose = 1\n",
        "                  ,stopping_rounds = 20\n",
        "                  ,max_leaves = 100\n",
        "                  ,sample_rate = 0.9\n",
        "                  ,col_sample_rate_per_tree = 0.8\n",
        "                  ,gamma = 0\n",
        "                  ,min_rows = 10,\n",
        "                  ,max_depth = 0\n",
        "                  ,max_bins = 100\n",
        "                  ,tree_method = \"hist\"\n",
        "                  ,grow_policy = \"lossguide\"\n",
        "                  ,booster = \"gbtree\"\n",
        "\n",
        "                  # Cross validation\n",
        "                  ,nfolds = 10\n",
        "                  ,seed = 123\n",
        "                  ,max_runtime_secs = 3600)"
      ],
      "execution_count": 0,
      "outputs": []
    },
    {
      "cell_type": "markdown",
      "metadata": {
        "id": "9pOD0cdn8EEj",
        "colab_type": "text"
      },
      "source": [
        "## Resultados del modelo XGBoost"
      ]
    },
    {
      "cell_type": "code",
      "metadata": {
        "id": "IlnIQUlB8F1j",
        "colab_type": "code",
        "outputId": "277c2727-cb4c-462e-8a0a-b4657cea2971",
        "colab": {
          "base_uri": "https://localhost:8080/",
          "height": 1000
        }
      },
      "source": [
        "xgb"
      ],
      "execution_count": 25,
      "outputs": [
        {
          "output_type": "display_data",
          "data": {
            "text/plain": [
              "Model Details:\n",
              "==============\n",
              "\n",
              "H2ORegressionModel: xgboost\n",
              "Model ID:  xgb4 \n",
              "Model Summary: \n",
              "  number_of_trees\n",
              "1            2091\n",
              "\n",
              "\n",
              "H2ORegressionMetrics: xgboost\n",
              "** Reported on training data. **\n",
              "\n",
              "MSE:  1.661743e-07\n",
              "RMSE:  0.0004076448\n",
              "MAE:  0.0002743862\n",
              "RMSLE:  8.399634e-05\n",
              "Mean Residual Deviance :  1.661743e-07\n",
              "\n",
              "\n",
              "H2ORegressionMetrics: xgboost\n",
              "** Reported on validation data. **\n",
              "\n",
              "MSE:  0.1447258\n",
              "RMSE:  0.3804285\n",
              "MAE:  0.2914585\n",
              "RMSLE:  0.08168493\n",
              "Mean Residual Deviance :  0.1447258\n",
              "\n",
              "\n",
              "H2ORegressionMetrics: xgboost\n",
              "** Reported on cross-validation data. **\n",
              "** 10-fold cross-validation on training data (Metrics computed for combined holdout predictions) **\n",
              "\n",
              "MSE:  0.1553568\n",
              "RMSE:  0.3941533\n",
              "MAE:  0.2965942\n",
              "RMSLE:  0.08571601\n",
              "Mean Residual Deviance :  0.1553568\n",
              "\n",
              "\n",
              "Cross-Validation Metrics Summary: \n",
              "                             mean          sd  cv_1_valid  cv_2_valid\n",
              "mae                    0.29660892   0.0086268  0.29499164  0.29668278\n",
              "mean_residual_deviance 0.15534374 0.010917196  0.15786405  0.14736745\n",
              "mse                    0.15534374 0.010917196  0.15786405  0.14736745\n",
              "r2                      0.6026837 0.020498276   0.5948397  0.58074546\n",
              "residual_deviance      0.15534374 0.010917196  0.15786405  0.14736745\n",
              "rmse                   0.39392596 0.013583534  0.39732108   0.3838847\n",
              "rmsle                   0.0856141 0.004625623 0.088270135 0.081108026\n",
              "                       cv_3_valid cv_4_valid cv_5_valid cv_6_valid cv_7_valid\n",
              "mae                    0.29239652 0.29504114 0.30853796 0.29572338 0.31382206\n",
              "mean_residual_deviance 0.15338138 0.15594696  0.1621998 0.15695068 0.18130141\n",
              "mse                    0.15338138 0.15594696  0.1621998 0.15695068 0.18130141\n",
              "r2                      0.6204194  0.6022452  0.5926223  0.5756023 0.58464444\n",
              "residual_deviance      0.15338138 0.15594696  0.1621998 0.15695068 0.18130141\n",
              "rmse                   0.39163935  0.3949012 0.40274036 0.39617002 0.42579505\n",
              "rmsle                  0.08731491 0.08527804 0.08900632 0.08458328 0.09558282\n",
              "                        cv_8_valid cv_9_valid cv_10_valid\n",
              "mae                       0.295427   0.289094   0.2843728\n",
              "mean_residual_deviance  0.14928424 0.14633931  0.14280209\n",
              "mse                     0.14928424 0.14633931  0.14280209\n",
              "r2                       0.6134978  0.6350422   0.6271783\n",
              "residual_deviance       0.14928424 0.14633931  0.14280209\n",
              "rmse                     0.3863732  0.3825432  0.37789166\n",
              "rmsle                  0.083044045 0.08041046  0.08154294"
            ]
          },
          "metadata": {
            "tags": []
          }
        }
      ]
    },
    {
      "cell_type": "markdown",
      "metadata": {
        "id": "8tI8mngr60VE",
        "colab_type": "text"
      },
      "source": [
        "## Predicciones"
      ]
    },
    {
      "cell_type": "code",
      "metadata": {
        "id": "fy42s8RH62XR",
        "colab_type": "code",
        "outputId": "d40bd3af-2b81-4340-df61-80606ee8d2b4",
        "colab": {
          "base_uri": "https://localhost:8080/",
          "height": 85
        }
      },
      "source": [
        "# Train\n",
        "predichos_train <- h2o.predict(xgb, datos_train_h2o) %>%\n",
        "  as.data.frame() %>% pull(predict) %>% exp()\n",
        "\n",
        "# Test (Train)\n",
        "predichos_test <- h2o.predict(xgb, datos_test_h2o) %>%\n",
        "  as.data.frame() %>% pull(predict) %>% exp()\n",
        "\n",
        "# Test (Submission)\n",
        "predichos_subm <- h2o.predict(xgb, as.h2o(df_ancha_test)) %>%\n",
        "  as.data.frame() %>% pull(predict) %>% exp()\n",
        "\n",
        "df_ancha_test %>% \n",
        "  select(ID) %>% \n",
        "  mutate(target = predichos_subm) ->\n",
        "  subm11\n",
        "\n",
        "# Exportando predicciones\n",
        "write.csv(subm11, file = \"subm11.csv\", row.names = FALSE)"
      ],
      "execution_count": 29,
      "outputs": [
        {
          "output_type": "stream",
          "text": [
            "  |======================================================================| 100%\n",
            "  |======================================================================| 100%\n",
            "  |======================================================================| 100%\n",
            "  |======================================================================| 100%\n"
          ],
          "name": "stdout"
        }
      ]
    },
    {
      "cell_type": "markdown",
      "metadata": {
        "id": "sykDmSES8N60",
        "colab_type": "text"
      },
      "source": [
        "## RMSE Train y Test (train)"
      ]
    },
    {
      "cell_type": "code",
      "metadata": {
        "id": "VeTlWQdb8QBz",
        "colab_type": "code",
        "outputId": "a3e2c862-19a9-49d1-9d30-0b2c8d05872a",
        "colab": {
          "base_uri": "https://localhost:8080/",
          "height": 137
        }
      },
      "source": [
        "# Función\n",
        "RMSE <- function(pred, obs, na.rm = FALSE){\n",
        "  sqrt(mean((pred - obs)^2, na.rm = na.rm))\n",
        "}\n",
        "\n",
        "data.frame(\n",
        "  data = c(\"Train\", \"Test\"),\n",
        "  RMSE = c(RMSE(pred = predichos_train, obs = as.vector(datos_train_h2o$target)),\n",
        "           RMSE(pred = predichos_test, obs = as.vector(datos_test_h2o$target)))\n",
        ")"
      ],
      "execution_count": 30,
      "outputs": [
        {
          "output_type": "display_data",
          "data": {
            "text/plain": [
              "  data  RMSE    \n",
              "1 Train 68.65118\n",
              "2 Test  55.84652"
            ],
            "text/latex": "A data.frame: 2 × 2\n\\begin{tabular}{ll}\n data & RMSE\\\\\n <fct> & <dbl>\\\\\n\\hline\n\t Train & 68.65118\\\\\n\t Test  & 55.84652\\\\\n\\end{tabular}\n",
            "text/markdown": "\nA data.frame: 2 × 2\n\n| data &lt;fct&gt; | RMSE &lt;dbl&gt; |\n|---|---|\n| Train | 68.65118 |\n| Test  | 55.84652 |\n\n",
            "text/html": [
              "<table>\n",
              "<caption>A data.frame: 2 × 2</caption>\n",
              "<thead>\n",
              "\t<tr><th scope=col>data</th><th scope=col>RMSE</th></tr>\n",
              "\t<tr><th scope=col>&lt;fct&gt;</th><th scope=col>&lt;dbl&gt;</th></tr>\n",
              "</thead>\n",
              "<tbody>\n",
              "\t<tr><td>Train</td><td>68.65118</td></tr>\n",
              "\t<tr><td>Test </td><td>55.84652</td></tr>\n",
              "</tbody>\n",
              "</table>\n"
            ]
          },
          "metadata": {
            "tags": []
          }
        }
      ]
    },
    {
      "cell_type": "markdown",
      "metadata": {
        "id": "ULk7o7C67ofp",
        "colab_type": "text"
      },
      "source": [
        "## Importancia de variables"
      ]
    },
    {
      "cell_type": "code",
      "metadata": {
        "id": "03ubGaqb7qUa",
        "colab_type": "code",
        "outputId": "b014f759-6dfa-42e5-85c9-8fe5d8a9a890",
        "colab": {
          "base_uri": "https://localhost:8080/",
          "height": 437
        }
      },
      "source": [
        "h2o.varimp_plot(xgb, num_of_features = 30)"
      ],
      "execution_count": 31,
      "outputs": [
        {
          "output_type": "display_data",
          "data": {
            "image/png": "[encoded data removed]",
            "text/plain": [
              "Plot with title “Variable Importance: XGBOOST”"
            ]
          },
          "metadata": {
            "tags": [],
            "image/png": {
              "width": 420,
              "height": 420
            },
            "text/plain": {
              "width": 420,
              "height": 420
            }
          }
        }
      ]
    },
    {
      "cell_type": "markdown",
      "metadata": {
        "id": "51r0GheG7t6K",
        "colab_type": "text"
      },
      "source": [
        "## Guardando modelo"
      ]
    },
    {
      "cell_type": "code",
      "metadata": {
        "id": "izvaVHkZ7vVy",
        "colab_type": "code",
        "colab": {
          "base_uri": "https://localhost:8080/",
          "height": 34
        },
        "outputId": "b4d2074d-2bfd-47c0-fc76-8b776e1c7c09"
      },
      "source": [
        "h2o.saveModel(xgb, path = \"XGB_S8\", force = TRUE)"
      ],
      "execution_count": 32,
      "outputs": [
        {
          "output_type": "display_data",
          "data": {
            "text/plain": [
              "[1] \"/content/XGB_S8/xgb4\""
            ],
            "text/latex": "'/content/XGB\\_S8/xgb4'",
            "text/markdown": "'/content/XGB_S8/xgb4'",
            "text/html": [
              "'/content/XGB_S8/xgb4'"
            ]
          },
          "metadata": {
            "tags": []
          }
        }
      ]
    }
  ]
}