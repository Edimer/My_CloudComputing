{
  "nbformat": 4,
  "nbformat_minor": 0,
  "metadata": {
    "colab": {
      "name": "Untitled12.ipynb",
      "provenance": [],
      "toc_visible": true,
      "authorship_tag": "ABX9TyPh4taDJdMH951avQfhHGIY"
    },
    "kernelspec": {
      "name": "ir",
      "display_name": "R"
    }
  },
  "cells": [
    {
      "cell_type": "markdown",
      "metadata": {
        "id": "DR-gWFiLaNjh",
        "colab_type": "text"
      },
      "source": [
        "Hackaton: Urban Air Pollution Challenge \n",
        "=============================================\n",
        "Edimer David Jaramillo   \n",
        "Abril de 2020"
      ]
    },
    {
      "cell_type": "markdown",
      "metadata": {
        "id": "NWt1rQvTaazp",
        "colab_type": "text"
      },
      "source": [
        "## Instalando y cargando bibliotecas"
      ]
    },
    {
      "cell_type": "code",
      "metadata": {
        "id": "cBOgT4ucaLvA",
        "colab_type": "code",
        "colab": {
          "base_uri": "https://localhost:8080/",
          "height": 326
        },
        "outputId": "a0d8e6ca-c92b-477e-b18b-999528d184e1"
      },
      "source": [
        "install.packages(\"h2o\", dependencies = TRUE)\n",
        "library(tidyverse)"
      ],
      "execution_count": 1,
      "outputs": [
        {
          "output_type": "stream",
          "text": [
            "Installing package into ‘/usr/local/lib/R/site-library’\n",
            "(as ‘lib’ is unspecified)\n",
            "\n",
            "also installing the dependencies ‘httpuv’, ‘xtable’, ‘sourcetools’, ‘fastmap’, ‘miniUI’, ‘webshot’, ‘misc3d’, ‘bitops’, ‘bit’, ‘shiny’, ‘manipulateWidget’, ‘plot3D’, ‘RCurl’, ‘mlbench’, ‘slam’, ‘bit64’, ‘data.table’, ‘rgl’, ‘plot3Drgl’\n",
            "\n",
            "\n",
            "── \u001b[1mAttaching packages\u001b[22m ─────────────────────────────────────── tidyverse 1.3.0 ──\n",
            "\n",
            "\u001b[32m✔\u001b[39m \u001b[34mggplot2\u001b[39m 3.3.0     \u001b[32m✔\u001b[39m \u001b[34mpurrr  \u001b[39m 0.3.3\n",
            "\u001b[32m✔\u001b[39m \u001b[34mtibble \u001b[39m 3.0.0     \u001b[32m✔\u001b[39m \u001b[34mdplyr  \u001b[39m 0.8.5\n",
            "\u001b[32m✔\u001b[39m \u001b[34mtidyr  \u001b[39m 1.0.2     \u001b[32m✔\u001b[39m \u001b[34mstringr\u001b[39m 1.4.0\n",
            "\u001b[32m✔\u001b[39m \u001b[34mreadr  \u001b[39m 1.3.1     \u001b[32m✔\u001b[39m \u001b[34mforcats\u001b[39m 0.5.0\n",
            "\n",
            "── \u001b[1mConflicts\u001b[22m ────────────────────────────────────────── tidyverse_conflicts() ──\n",
            "\u001b[31m✖\u001b[39m \u001b[34mdplyr\u001b[39m::\u001b[32mfilter()\u001b[39m masks \u001b[34mstats\u001b[39m::filter()\n",
            "\u001b[31m✖\u001b[39m \u001b[34mdplyr\u001b[39m::\u001b[32mlag()\u001b[39m    masks \u001b[34mstats\u001b[39m::lag()\n",
            "\n"
          ],
          "name": "stderr"
        }
      ]
    },
    {
      "cell_type": "markdown",
      "metadata": {
        "id": "8Nf7sAr_bUpa",
        "colab_type": "text"
      },
      "source": [
        "## Importando datos"
      ]
    },
    {
      "cell_type": "code",
      "metadata": {
        "id": "I37SKrBLbWRS",
        "colab_type": "code",
        "colab": {}
      },
      "source": [
        "load(\"/content/nuevo1_test.Rdata\")\n",
        "load(\"/content/nuevo1_train.Rdata\")"
      ],
      "execution_count": 0,
      "outputs": []
    },
    {
      "cell_type": "markdown",
      "metadata": {
        "id": "r5V4hjDVbXWy",
        "colab_type": "text"
      },
      "source": [
        "## Modelo XGBoost"
      ]
    },
    {
      "cell_type": "code",
      "metadata": {
        "id": "e8fEPyD5ba3y",
        "colab_type": "code",
        "colab": {
          "base_uri": "https://localhost:8080/",
          "height": 459
        },
        "outputId": "51a8ee76-202b-4dab-c7c5-98a3aedb2540"
      },
      "source": [
        "# Cargando  e iniciando h2o\n",
        "library(h2o)\n",
        "h2o.init(nthreads = -1, port = 54321, max_mem_size = \"10g\")\n",
        "\n",
        "# Train y Test h2o\n",
        "df_train <- df_train2 %>% \n",
        "  select(-c(1, 2, 3)) %>%\n",
        "  filter(target <= 500)\n",
        "\n",
        "# Datos h2o\n",
        "datos_h2o <- as.h2o(x = df_train, destination_frame = \"datos_h2o\")\n",
        "\n",
        "particiones <- h2o.splitFrame(data = datos_h2o, ratios = c(0.7, 0.20),\n",
        "                              seed = 123)\n",
        "datos_train_h2o <- h2o.assign(data = particiones[[1]], key = \"datos_train_H2O\")\n",
        "datos_val_h2o   <- h2o.assign(data = particiones[[2]], key = \"datos_val_H2O\")\n",
        "datos_test_h2o  <- h2o.assign(data = particiones[[3]], key = \"datos_test_H2O\")\n",
        "\n",
        "# Se define la variable respuesta y los predictores.\n",
        "var_respuesta <- \"target\"\n",
        "\n",
        "# Para este modelo se emplean todos los predictores disponibles.\n",
        "predictores   <- setdiff(h2o.colnames(datos_train_h2o), var_respuesta)\n",
        "\n",
        "# Modelo XGB h2o\n",
        "xgb <- h2o.xgboost(x = predictores\n",
        "                  ,y = var_respuesta\n",
        "                  ,training_frame = datos_train_h2o\n",
        "                  ,validation_frame = datos_val_h2o\n",
        "                  ,model_id = \"xgb_model_1\"\n",
        "                  ,stopping_rounds = 3\n",
        "                  ,stopping_metric = \"RMSE\"\n",
        "                  ,distribution = \"gaussian\"\n",
        "                  ,score_tree_interval = 1\n",
        "                  ,learn_rate=0.05\n",
        "                  ,ntrees=500\n",
        "                  ,subsample = 0.75\n",
        "                  ,colsample_bytree = 0.75\n",
        "                  ,tree_method = \"hist\"\n",
        "                  ,grow_policy = \"lossguide\"\n",
        "                  ,booster = \"gblinear\"\n",
        "                  ,gamma = 0.0\n",
        "                  ,max_runtime_secs = 3600\n",
        "                  ,nfolds = 10\n",
        "                  ,seed = 123\n",
        "                  ,categorical_encoding = \"OneHotExplicit\")"
      ],
      "execution_count": 16,
      "outputs": [
        {
          "output_type": "stream",
          "text": [
            " Connection successful!\n",
            "\n",
            "R is connected to the H2O cluster: \n",
            "    H2O cluster uptime:         23 minutes 38 seconds \n",
            "    H2O cluster timezone:       Etc/UTC \n",
            "    H2O data parsing timezone:  UTC \n",
            "    H2O cluster version:        3.30.0.1 \n",
            "    H2O cluster version age:    6 days  \n",
            "    H2O cluster name:           H2O_started_from_R_root_ybq511 \n",
            "    H2O cluster total nodes:    1 \n",
            "    H2O cluster total memory:   9.88 GB \n",
            "    H2O cluster total cores:    2 \n",
            "    H2O cluster allowed cores:  2 \n",
            "    H2O cluster healthy:        TRUE \n",
            "    H2O Connection ip:          localhost \n",
            "    H2O Connection port:        54321 \n",
            "    H2O Connection proxy:       NA \n",
            "    H2O Internal Security:      FALSE \n",
            "    H2O API Extensions:         Amazon S3, XGBoost, Algos, AutoML, Core V3, TargetEncoder, Core V4 \n",
            "    R Version:                  R version 3.6.3 (2020-02-29) \n",
            "\n",
            "  |======================================================================| 100%\n"
          ],
          "name": "stdout"
        },
        {
          "output_type": "stream",
          "text": [
            "Warning message in .h2o.processResponseWarnings(res):\n",
            "“Dropping bad and constant columns: [day_week, month_date, Weekend].\n",
            "”\n"
          ],
          "name": "stderr"
        },
        {
          "output_type": "stream",
          "text": [
            "  |======================================================================| 100%\n"
          ],
          "name": "stdout"
        }
      ]
    },
    {
      "cell_type": "code",
      "metadata": {
        "id": "RFXeI9Ujd6Qb",
        "colab_type": "code",
        "colab": {
          "base_uri": "https://localhost:8080/",
          "height": 1000
        },
        "outputId": "9431eabc-b8ec-48da-f443-fb197063bd24"
      },
      "source": [
        "xgb"
      ],
      "execution_count": 17,
      "outputs": [
        {
          "output_type": "display_data",
          "data": {
            "text/plain": [
              "Model Details:\n",
              "==============\n",
              "\n",
              "H2ORegressionModel: xgboost\n",
              "Model ID:  xgb_model_1 \n",
              "Model Summary: \n",
              "  number_of_trees\n",
              "1              52\n",
              "\n",
              "\n",
              "H2ORegressionMetrics: xgboost\n",
              "** Reported on training data. **\n",
              "\n",
              "MSE:  2199.96\n",
              "RMSE:  46.90373\n",
              "MAE:  34.57763\n",
              "RMSLE:  0.7914494\n",
              "Mean Residual Deviance :  2199.96\n",
              "\n",
              "\n",
              "H2ORegressionMetrics: xgboost\n",
              "** Reported on validation data. **\n",
              "\n",
              "MSE:  2081.29\n",
              "RMSE:  45.62116\n",
              "MAE:  33.51825\n",
              "RMSLE:  0.7804832\n",
              "Mean Residual Deviance :  2081.29\n",
              "\n",
              "\n",
              "H2ORegressionMetrics: xgboost\n",
              "** Reported on cross-validation data. **\n",
              "** 10-fold cross-validation on training data (Metrics computed for combined holdout predictions) **\n",
              "\n",
              "MSE:  2199.612\n",
              "RMSE:  46.90002\n",
              "MAE:  34.57685\n",
              "RMSLE:  0.7914168\n",
              "Mean Residual Deviance :  2199.612\n",
              "\n",
              "\n",
              "Cross-Validation Metrics Summary: \n",
              "                               mean          sd   cv_1_valid   cv_2_valid\n",
              "mae                       34.580215  0.48616752    34.508533     34.82499\n",
              "mean_residual_deviance    2200.3948   107.04642    2269.7646    2177.4104\n",
              "mse                       2200.3948   107.04642    2269.7646    2177.4104\n",
              "r2                     -0.036634892 0.012469573 -0.035253532 -0.022808827\n",
              "residual_deviance         2200.3948   107.04642    2269.7646    2177.4104\n",
              "rmse                       46.89565   1.1513193    47.642048     46.66273\n",
              "rmsle                     0.7913417 0.012564235    0.7874384     0.797531\n",
              "                         cv_3_valid   cv_4_valid   cv_5_valid  cv_6_valid\n",
              "mae                        33.77752    34.748825    34.913254   34.375336\n",
              "mean_residual_deviance    2031.3883      2216.62     2226.754   2232.7383\n",
              "mse                       2031.3883      2216.62     2226.754   2232.7383\n",
              "r2                     -0.017405549 -0.053247724 -0.036981564 -0.05580518\n",
              "residual_deviance         2031.3883      2216.62     2226.754   2232.7383\n",
              "rmse                      45.070927    47.080994     47.18849    47.25186\n",
              "rmsle                      0.774821    0.7805056   0.80172175   0.8140027\n",
              "                         cv_7_valid   cv_8_valid   cv_9_valid  cv_10_valid\n",
              "mae                       33.740257    34.859947    35.191025     34.86247\n",
              "mean_residual_deviance    2007.0323    2213.8066     2357.477    2270.9558\n",
              "mse                       2007.0323    2213.8066     2357.477    2270.9558\n",
              "r2                     -0.025858983 -0.045306135 -0.035953373 -0.037728067\n",
              "residual_deviance         2007.0323    2213.8066     2357.477    2270.9558\n",
              "rmse                      44.799915    47.051105    48.553856     47.65455\n",
              "rmsle                     0.7881453   0.77572316    0.7921483   0.80138016"
            ]
          },
          "metadata": {
            "tags": []
          }
        }
      ]
    },
    {
      "cell_type": "markdown",
      "metadata": {
        "id": "igWJmc7XeEUu",
        "colab_type": "text"
      },
      "source": [
        "## Predicciones"
      ]
    },
    {
      "cell_type": "code",
      "metadata": {
        "id": "uKuA4-rdeFUn",
        "colab_type": "code",
        "colab": {
          "base_uri": "https://localhost:8080/",
          "height": 205
        },
        "outputId": "bcd974e1-3b06-40ce-c52e-74798f8b0c82"
      },
      "source": [
        "# ============================= Predicciones ====================================== #\n",
        "\n",
        "# Train\n",
        "predichos_train <- h2o.predict(xgb, datos_train_h2o) %>%\n",
        "  as.data.frame() %>% pull(predict)\n",
        "\n",
        "# Test (Train)\n",
        "predichos_test <- h2o.predict(xgb, datos_test_h2o) %>%\n",
        "  as.data.frame() %>% pull(predict)\n",
        "\n",
        "# Test (Submission)\n",
        "predichos_subm <- h2o.predict(xgb, as.h2o(df_test2)) %>%\n",
        "  as.data.frame() %>% pull(predict)\n",
        "df_test2 %>% \n",
        "  select(`Place_ID X Date`) %>% \n",
        "  mutate(target = predichos_subm) ->\n",
        "  subm3\n",
        "\n",
        "# Exportando predicciones\n",
        "write.csv(subm3, file = \"subm3.csv\", row.names = FALSE)\n",
        "\n",
        "RMSE <- function(pred, obs, na.rm = FALSE){\n",
        "  sqrt(mean((pred - obs)^2, na.rm = na.rm))\n",
        "}\n",
        "\n",
        "data.frame(\n",
        "  data = c(\"Train\", \"Test\"),\n",
        "  RMSE = c(RMSE(pred = predichos_train, obs = as.vector(datos_train_h2o$target)),\n",
        "           RMSE(pred = predichos_test, obs = as.vector(datos_test_h2o$target)))\n",
        ")"
      ],
      "execution_count": 24,
      "outputs": [
        {
          "output_type": "stream",
          "text": [
            "  |======================================================================| 100%\n",
            "  |======================================================================| 100%\n",
            "  |======================================================================| 100%\n",
            "  |======================================================================| 100%\n"
          ],
          "name": "stdout"
        },
        {
          "output_type": "display_data",
          "data": {
            "text/plain": [
              "  data  RMSE    \n",
              "1 Train 46.90373\n",
              "2 Test  47.45303"
            ],
            "text/latex": "A data.frame: 2 × 2\n\\begin{tabular}{ll}\n data & RMSE\\\\\n <fct> & <dbl>\\\\\n\\hline\n\t Train & 46.90373\\\\\n\t Test  & 47.45303\\\\\n\\end{tabular}\n",
            "text/markdown": "\nA data.frame: 2 × 2\n\n| data &lt;fct&gt; | RMSE &lt;dbl&gt; |\n|---|---|\n| Train | 46.90373 |\n| Test  | 47.45303 |\n\n",
            "text/html": [
              "<table>\n",
              "<caption>A data.frame: 2 × 2</caption>\n",
              "<thead>\n",
              "\t<tr><th scope=col>data</th><th scope=col>RMSE</th></tr>\n",
              "\t<tr><th scope=col>&lt;fct&gt;</th><th scope=col>&lt;dbl&gt;</th></tr>\n",
              "</thead>\n",
              "<tbody>\n",
              "\t<tr><td>Train</td><td>46.90373</td></tr>\n",
              "\t<tr><td>Test </td><td>47.45303</td></tr>\n",
              "</tbody>\n",
              "</table>\n"
            ]
          },
          "metadata": {
            "tags": []
          }
        }
      ]
    }
  ]
}