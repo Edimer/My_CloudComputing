{
  "nbformat": 4,
  "nbformat_minor": 0,
  "metadata": {
    "colab": {
      "name": "Untitled12.ipynb",
      "provenance": [],
      "collapsed_sections": [],
      "toc_visible": true,
      "authorship_tag": "ABX9TyP8fAxucQAueZyGyvJpSmIc"
    },
    "kernelspec": {
      "name": "ir",
      "display_name": "R"
    }
  },
  "cells": [
    {
      "cell_type": "markdown",
      "metadata": {
        "id": "DR-gWFiLaNjh",
        "colab_type": "text"
      },
      "source": [
        "Hackaton: Urban Air Pollution Challenge \n",
        "=============================================\n",
        "Edimer David Jaramillo   \n",
        "Abril de 2020"
      ]
    },
    {
      "cell_type": "markdown",
      "metadata": {
        "id": "NWt1rQvTaazp",
        "colab_type": "text"
      },
      "source": [
        "## Instalando y cargando bibliotecas"
      ]
    },
    {
      "cell_type": "code",
      "metadata": {
        "id": "cBOgT4ucaLvA",
        "colab_type": "code",
        "colab": {}
      },
      "source": [
        "install.packages(\"h2o\", dependencies = TRUE)\n",
        "library(tidyverse)\n",
        "library(h2o)"
      ],
      "execution_count": 0,
      "outputs": []
    },
    {
      "cell_type": "markdown",
      "metadata": {
        "id": "8Nf7sAr_bUpa",
        "colab_type": "text"
      },
      "source": [
        "## Importando datos"
      ]
    },
    {
      "cell_type": "code",
      "metadata": {
        "id": "I37SKrBLbWRS",
        "colab_type": "code",
        "colab": {}
      },
      "source": [
        "load(\"/content/nuevo1_test.Rdata\")\n",
        "load(\"/content/nuevo1_train.Rdata\")"
      ],
      "execution_count": 0,
      "outputs": []
    },
    {
      "cell_type": "markdown",
      "metadata": {
        "id": "r5V4hjDVbXWy",
        "colab_type": "text"
      },
      "source": [
        "## Modelo XGBoost"
      ]
    },
    {
      "cell_type": "code",
      "metadata": {
        "id": "e8fEPyD5ba3y",
        "colab_type": "code",
        "colab": {
          "base_uri": "https://localhost:8080/",
          "height": 459
        },
        "outputId": "9cec6e91-2c76-4a63-ad11-7eace9176374"
      },
      "source": [
        "# Iniciando h2o\n",
        "h2o.init(nthreads = -1, port = 54321, max_mem_size = \"10g\")\n",
        "\n",
        "# Train y Test h2o\n",
        "df_train <- df_train2 %>% \n",
        "  select(-c(1, 2, 3)) %>%\n",
        "  mutate(target = log(target))\n",
        "\n",
        "# Datos h2o\n",
        "datos_h2o <- as.h2o(x = df_train, destination_frame = \"datos_h2o\")\n",
        "\n",
        "particiones <- h2o.splitFrame(data = datos_h2o, ratios = c(0.7, 0.20),\n",
        "                              seed = 123)\n",
        "datos_train_h2o <- h2o.assign(data = particiones[[1]], key = \"datos_train_H2O\")\n",
        "datos_val_h2o   <- h2o.assign(data = particiones[[2]], key = \"datos_val_H2O\")\n",
        "datos_test_h2o  <- h2o.assign(data = particiones[[3]], key = \"datos_test_H2O\")\n",
        "\n",
        "# Se define la variable respuesta y los predictores.\n",
        "var_respuesta <- \"target\"\n",
        "\n",
        "# Para este modelo se emplean todos los predictores disponibles.\n",
        "predictores   <- setdiff(h2o.colnames(datos_train_h2o), var_respuesta)\n",
        "\n",
        "# Modelo XGB h2o\n",
        "xgb <- h2o.xgboost(x = predictores\n",
        "                  ,y = var_respuesta\n",
        "                  ,training_frame = datos_train_h2o\n",
        "                  ,validation_frame = datos_val_h2o\n",
        "                  ,model_id = \"xgb_model_3\"\n",
        "                  ,stopping_rounds = 5\n",
        "                  ,stopping_metric = \"RMSE\"\n",
        "                  ,distribution = \"gaussian\"\n",
        "                  ,score_tree_interval = 1\n",
        "                  ,learn_rate=0.01\n",
        "                  ,ntrees=500\n",
        "                  ,subsample = 0.9\n",
        "                  ,colsample_bytree = 0.9\n",
        "                  ,tree_method = \"hist\"\n",
        "                  ,grow_policy = \"lossguide\"\n",
        "                  ,booster = \"gbtree\"\n",
        "                  ,gamma = 0.0\n",
        "                  ,max_runtime_secs = 3600\n",
        "                  ,nfolds = 10\n",
        "                  ,seed = 123)"
      ],
      "execution_count": 33,
      "outputs": [
        {
          "output_type": "stream",
          "text": [
            " Connection successful!\n",
            "\n",
            "R is connected to the H2O cluster: \n",
            "    H2O cluster uptime:         47 minutes 34 seconds \n",
            "    H2O cluster timezone:       Etc/UTC \n",
            "    H2O data parsing timezone:  UTC \n",
            "    H2O cluster version:        3.30.0.1 \n",
            "    H2O cluster version age:    6 days  \n",
            "    H2O cluster name:           H2O_started_from_R_root_ybq511 \n",
            "    H2O cluster total nodes:    1 \n",
            "    H2O cluster total memory:   9.81 GB \n",
            "    H2O cluster total cores:    2 \n",
            "    H2O cluster allowed cores:  2 \n",
            "    H2O cluster healthy:        TRUE \n",
            "    H2O Connection ip:          localhost \n",
            "    H2O Connection port:        54321 \n",
            "    H2O Connection proxy:       NA \n",
            "    H2O Internal Security:      FALSE \n",
            "    H2O API Extensions:         Amazon S3, XGBoost, Algos, AutoML, Core V3, TargetEncoder, Core V4 \n",
            "    R Version:                  R version 3.6.3 (2020-02-29) \n",
            "\n",
            "  |======================================================================| 100%\n"
          ],
          "name": "stdout"
        },
        {
          "output_type": "stream",
          "text": [
            "Warning message in .h2o.processResponseWarnings(res):\n",
            "“Dropping bad and constant columns: [day_week, month_date, Weekend].\n",
            "”\n"
          ],
          "name": "stderr"
        },
        {
          "output_type": "stream",
          "text": [
            "  |======================================================================| 100%\n"
          ],
          "name": "stdout"
        }
      ]
    },
    {
      "cell_type": "code",
      "metadata": {
        "id": "RFXeI9Ujd6Qb",
        "colab_type": "code",
        "colab": {
          "base_uri": "https://localhost:8080/",
          "height": 1000
        },
        "outputId": "8f38d4bc-d1fe-4ea1-83ff-4b13c4844606"
      },
      "source": [
        "xgb"
      ],
      "execution_count": 34,
      "outputs": [
        {
          "output_type": "display_data",
          "data": {
            "text/plain": [
              "Model Details:\n",
              "==============\n",
              "\n",
              "H2ORegressionModel: xgboost\n",
              "Model ID:  xgb_model_3 \n",
              "Model Summary: \n",
              "  number_of_trees\n",
              "1             420\n",
              "\n",
              "\n",
              "H2ORegressionMetrics: xgboost\n",
              "** Reported on training data. **\n",
              "\n",
              "MSE:  0.2863848\n",
              "RMSE:  0.5351494\n",
              "MAE:  0.4114956\n",
              "RMSLE:  0.1287501\n",
              "Mean Residual Deviance :  0.2863848\n",
              "\n",
              "\n",
              "H2ORegressionMetrics: xgboost\n",
              "** Reported on validation data. **\n",
              "\n",
              "MSE:  0.3305988\n",
              "RMSE:  0.5749772\n",
              "MAE:  0.4451219\n",
              "RMSLE:  0.1336554\n",
              "Mean Residual Deviance :  0.3305988\n",
              "\n",
              "\n",
              "H2ORegressionMetrics: xgboost\n",
              "** Reported on cross-validation data. **\n",
              "** 10-fold cross-validation on training data (Metrics computed for combined holdout predictions) **\n",
              "\n",
              "MSE:  0.3364044\n",
              "RMSE:  0.5800038\n",
              "MAE:  0.4462566\n",
              "RMSLE:  0.1386725\n",
              "Mean Residual Deviance :  0.3364044\n",
              "\n",
              "\n",
              "Cross-Validation Metrics Summary: \n",
              "                             mean           sd cv_1_valid cv_2_valid cv_3_valid\n",
              "mae                     0.4461823  0.012621825  0.4293004 0.45519575 0.45773137\n",
              "mean_residual_deviance  0.3363092  0.020227265 0.30925724 0.34434482  0.3478025\n",
              "mse                     0.3363092  0.020227265 0.30925724 0.34434482  0.3478025\n",
              "r2                      0.4489706  0.025059445 0.46352842  0.4634543 0.41590944\n",
              "residual_deviance       0.3363092  0.020227265 0.30925724 0.34434482  0.3478025\n",
              "rmse                    0.5796873  0.017378822   0.556109 0.58680904 0.58974785\n",
              "rmsle                  0.13853057 0.0062045925 0.12946573 0.14335422 0.14014047\n",
              "                       cv_4_valid cv_5_valid cv_6_valid cv_7_valid cv_8_valid\n",
              "mae                     0.4389227  0.4535383 0.46777543 0.43006688  0.4371435\n",
              "mean_residual_deviance  0.3126737 0.35086656 0.37496576 0.31831476  0.3246878\n",
              "mse                     0.3126737 0.35086656 0.37496576 0.31831476  0.3246878\n",
              "r2                     0.47581866  0.4363412 0.39856517 0.46913105  0.4661505\n",
              "residual_deviance       0.3126737 0.35086656 0.37496576 0.31831476  0.3246878\n",
              "rmse                   0.55917233  0.5923399  0.6123445  0.5641939 0.56981385\n",
              "rmsle                  0.12970695 0.14489809 0.14740238  0.1333867 0.13827552\n",
              "                       cv_9_valid cv_10_valid\n",
              "mae                    0.44921017   0.4429385\n",
              "mean_residual_deviance 0.34095082   0.3392281\n",
              "mse                    0.34095082   0.3392281\n",
              "r2                     0.45267352  0.44813368\n",
              "residual_deviance      0.34095082   0.3392281\n",
              "rmse                    0.5839099   0.5824329\n",
              "rmsle                  0.13673936  0.14193626"
            ]
          },
          "metadata": {
            "tags": []
          }
        }
      ]
    },
    {
      "cell_type": "markdown",
      "metadata": {
        "id": "igWJmc7XeEUu",
        "colab_type": "text"
      },
      "source": [
        "## Predicciones"
      ]
    },
    {
      "cell_type": "code",
      "metadata": {
        "id": "uKuA4-rdeFUn",
        "colab_type": "code",
        "colab": {
          "base_uri": "https://localhost:8080/",
          "height": 205
        },
        "outputId": "54253201-effe-46f9-e138-6108f7a1d65e"
      },
      "source": [
        "# ============================= Predicciones ====================================== #\n",
        "\n",
        "# Train\n",
        "predichos_train <- h2o.predict(xgb, datos_train_h2o) %>%\n",
        "  as.data.frame() %>% pull(predict)\n",
        "\n",
        "# Test (Train)\n",
        "predichos_test <- h2o.predict(xgb, datos_test_h2o) %>%\n",
        "  as.data.frame() %>% pull(predict)\n",
        "\n",
        "# Test (Submission)\n",
        "predichos_subm <- h2o.predict(xgb, as.h2o(df_test2)) %>%\n",
        "  as.data.frame() %>% pull(predict) %>% exp()\n",
        "df_test2 %>% \n",
        "  select(`Place_ID X Date`) %>% \n",
        "  mutate(target = predichos_subm) ->\n",
        "  subm5\n",
        "\n",
        "# Exportando predicciones\n",
        "write.csv(subm5, file = \"subm5.csv\", row.names = FALSE)\n",
        "\n",
        "RMSE <- function(pred, obs, na.rm = FALSE){\n",
        "  sqrt(mean((pred - obs)^2, na.rm = na.rm))\n",
        "}\n",
        "\n",
        "data.frame(\n",
        "  data = c(\"Train\", \"Test\"),\n",
        "  RMSE = c(RMSE(pred = predichos_train, obs = as.vector(datos_train_h2o$target)),\n",
        "           RMSE(pred = predichos_test, obs = as.vector(datos_test_h2o$target)))\n",
        ")"
      ],
      "execution_count": 40,
      "outputs": [
        {
          "output_type": "stream",
          "text": [
            "  |======================================================================| 100%\n",
            "  |======================================================================| 100%\n",
            "  |======================================================================| 100%\n",
            "  |======================================================================| 100%\n"
          ],
          "name": "stdout"
        },
        {
          "output_type": "display_data",
          "data": {
            "text/plain": [
              "  data  RMSE     \n",
              "1 Train 0.5351494\n",
              "2 Test  0.6053664"
            ],
            "text/latex": "A data.frame: 2 × 2\n\\begin{tabular}{ll}\n data & RMSE\\\\\n <fct> & <dbl>\\\\\n\\hline\n\t Train & 0.5351494\\\\\n\t Test  & 0.6053664\\\\\n\\end{tabular}\n",
            "text/markdown": "\nA data.frame: 2 × 2\n\n| data &lt;fct&gt; | RMSE &lt;dbl&gt; |\n|---|---|\n| Train | 0.5351494 |\n| Test  | 0.6053664 |\n\n",
            "text/html": [
              "<table>\n",
              "<caption>A data.frame: 2 × 2</caption>\n",
              "<thead>\n",
              "\t<tr><th scope=col>data</th><th scope=col>RMSE</th></tr>\n",
              "\t<tr><th scope=col>&lt;fct&gt;</th><th scope=col>&lt;dbl&gt;</th></tr>\n",
              "</thead>\n",
              "<tbody>\n",
              "\t<tr><td>Train</td><td>0.5351494</td></tr>\n",
              "\t<tr><td>Test </td><td>0.6053664</td></tr>\n",
              "</tbody>\n",
              "</table>\n"
            ]
          },
          "metadata": {
            "tags": []
          }
        }
      ]
    },
    {
      "cell_type": "code",
      "metadata": {
        "id": "V3Mmj2Q_zuml",
        "colab_type": "code",
        "colab": {
          "base_uri": "https://localhost:8080/",
          "height": 454
        },
        "outputId": "91b13711-0e80-4051-9d6b-6d059e6bcf58"
      },
      "source": [
        "predichos_train <- h2o.predict(xgb, datos_train_h2o) %>%\n",
        "  as.data.frame() %>% pull(predict) %>% exp()\n",
        "hist(predichos_train)"
      ],
      "execution_count": 37,
      "outputs": [
        {
          "output_type": "stream",
          "text": [
            "  |======================================================================| 100%\n"
          ],
          "name": "stdout"
        },
        {
          "output_type": "display_data",
          "data": {
            "image/png": "[encoded data removed]",
            "text/plain": [
              "Plot with title “Histogram of predichos_train”"
            ]
          },
          "metadata": {
            "tags": [],
            "image/png": {
              "width": 420,
              "height": 420
            },
            "text/plain": {
              "width": 420,
              "height": 420
            }
          }
        }
      ]
    },
    {
      "cell_type": "code",
      "metadata": {
        "id": "PGM4oCvpz9FT",
        "colab_type": "code",
        "colab": {
          "base_uri": "https://localhost:8080/",
          "height": 454
        },
        "outputId": "08205158-76b0-4f0e-d957-4e32b48a7b9d"
      },
      "source": [
        "predichos_test <- h2o.predict(xgb, datos_test_h2o) %>%\n",
        "  as.data.frame() %>% pull(predict) %>% exp()\n",
        "hist(predichos_test)"
      ],
      "execution_count": 38,
      "outputs": [
        {
          "output_type": "stream",
          "text": [
            "  |======================================================================| 100%\n"
          ],
          "name": "stdout"
        },
        {
          "output_type": "display_data",
          "data": {
            "image/png": "[encoded data removed]",
            "text/plain": [
              "Plot with title “Histogram of predichos_test”"
            ]
          },
          "metadata": {
            "tags": [],
            "image/png": {
              "width": 420,
              "height": 420
            },
            "text/plain": {
              "width": 420,
              "height": 420
            }
          }
        }
      ]
    },
    {
      "cell_type": "code",
      "metadata": {
        "id": "CTFnOItm0GL7",
        "colab_type": "code",
        "colab": {
          "base_uri": "https://localhost:8080/",
          "height": 471
        },
        "outputId": "b49f503b-46f7-41fd-e04f-2c156aa45f70"
      },
      "source": [
        "predichos_subm <- h2o.predict(xgb, as.h2o(df_test2)) %>%\n",
        "  as.data.frame() %>% pull(predict) %>% exp()\n",
        "hist(predichos_subm)"
      ],
      "execution_count": 39,
      "outputs": [
        {
          "output_type": "stream",
          "text": [
            "  |======================================================================| 100%\n",
            "  |======================================================================| 100%\n"
          ],
          "name": "stdout"
        },
        {
          "output_type": "display_data",
          "data": {
            "image/png": "[encoded data removed]",
            "text/plain": [
              "Plot with title “Histogram of predichos_subm”"
            ]
          },
          "metadata": {
            "tags": [],
            "image/png": {
              "width": 420,
              "height": 420
            },
            "text/plain": {
              "width": 420,
              "height": 420
            }
          }
        }
      ]
    }
  ]
}