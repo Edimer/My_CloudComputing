{
  "nbformat": 4,
  "nbformat_minor": 0,
  "metadata": {
    "colab": {
      "name": "XGBS9_SideralN.ipynb",
      "provenance": [],
      "collapsed_sections": [],
      "authorship_tag": "ABX9TyNJ5QG0OB6G8JODlYKezP9u",
      "include_colab_link": true
    },
    "kernelspec": {
      "name": "ir",
      "display_name": "R"
    }
  },
  "cells": [
    {
      "cell_type": "markdown",
      "metadata": {
        "id": "view-in-github",
        "colab_type": "text"
      },
      "source": [
        "<a href=\"https://colab.research.google.com/github/Edimer/My_CloudComputing/blob/master/XGBS9_SideralN.ipynb\" target=\"_parent\"><img src=\"https://colab.research.google.com/assets/colab-badge.svg\" alt=\"Open In Colab\"/></a>"
      ]
    },
    {
      "cell_type": "markdown",
      "metadata": {
        "id": "Ux-0FiGjeWxZ",
        "colab_type": "text"
      },
      "source": [
        "UNICEF Arm 2030 Vision #1: Flood Prediction in Malawi\n",
        "=============================================\n",
        "Edimer David Jaramillo   \n",
        "Abril de 2020"
      ]
    },
    {
      "cell_type": "markdown",
      "metadata": {
        "id": "ljU1pi4Dee9i",
        "colab_type": "text"
      },
      "source": [
        "## Instalando y cargando bibliotecas"
      ]
    },
    {
      "cell_type": "code",
      "metadata": {
        "id": "9lIeddg-eWYE",
        "colab_type": "code",
        "colab": {}
      },
      "source": [
        "install.packages(\"h2o\", dependencies = TRUE)\n",
        "install.packages(\"ParBayesianOptimization\", dependencies = TRUE)\n",
        "install.packages(\"mlr3verse\", dependencies = TRUE)\n",
        "library(tidyverse)\n",
        "library(h2o)\n",
        "library(ParBayesianOptimization)\n",
        "library(mlr3verse)\n",
        "library(rBayesianOptimization)"
      ],
      "execution_count": 0,
      "outputs": []
    },
    {
      "cell_type": "markdown",
      "metadata": {
        "id": "7K1se2aOeqTA",
        "colab_type": "text"
      },
      "source": [
        "## Importando datos"
      ]
    },
    {
      "cell_type": "code",
      "metadata": {
        "id": "XrlN_BWheq_g",
        "colab_type": "code",
        "colab": {}
      },
      "source": [
        "load(\"/content/dataTrain.Rdata\")\n",
        "load(\"/content/dataTest.Rdata\")"
      ],
      "execution_count": 0,
      "outputs": []
    },
    {
      "cell_type": "markdown",
      "metadata": {
        "id": "zbOBWtI7eudu",
        "colab_type": "text"
      },
      "source": [
        "## Modelo XGBoost (Optimización Bayesiana)"
      ]
    },
    {
      "cell_type": "code",
      "metadata": {
        "id": "bmzNNnMZeu64",
        "colab_type": "code",
        "colab": {}
      },
      "source": [
        "# Iniciando h2o\n",
        "h2o.init(nthreads = -1, port = 54321, max_mem_size = \"10g\")\n",
        "\n",
        "# Train y Test h2o\n",
        "df_train <- dataTrain %>%\n",
        "   select(-Square_ID)\n",
        "\n",
        "# Datos h2o\n",
        "datos_h2o <- as.h2o(x = df_train, destination_frame = \"datos_h2o\")\n",
        "\n",
        "particiones <- h2o.splitFrame(data = datos_h2o, ratios = c(0.8, 0.10),\n",
        "                              seed = 123)\n",
        "datos_train_h2o <- h2o.assign(data = particiones[[1]], key = \"datos_train_h2o\")\n",
        "datos_val_h2o   <- h2o.assign(data = particiones[[2]], key = \"datos_val_h2o\")\n",
        "datos_test_h2o  <- h2o.assign(data = particiones[[3]], key = \"datos_test_h2o\")\n",
        "\n",
        "# Se define la variable respuesta y los predictores.\n",
        "var_respuesta <- \"target_2015\"\n",
        "\n",
        "# Para este modelo se emplean todos los predictores disponibles.\n",
        "predictores   <- setdiff(h2o.colnames(datos_train_h2o), var_respuesta)\n",
        "\n",
        "# Modelo XGB h2o (función de scoring para optimización bayesiana)\n",
        "scoring_function <- function(learn_rate, max_depth, subsample,\n",
        "                              min_rows, col_sample_rate, colsample_bytree,\n",
        "                              gamma, ntrees) {\n",
        "  nfolds <- 10                              \n",
        "  metrica <- \"RMSE\"\n",
        "\n",
        "  xgb <- h2o.xgboost(x = predictores\n",
        "                  ,y = var_respuesta\n",
        "                  ,training_frame = datos_train_h2o\n",
        "                  ,validation_frame = datos_val_h2o\n",
        "                  ,stopping_rounds = 50\n",
        "                  ,stopping_metric = \"RMSE\"\n",
        "                  ,distribution = \"poisson\"\n",
        "                  ,score_tree_interval = 5\n",
        "                  ,learn_rate=learn_rate\n",
        "                  ,ntrees=ntrees\n",
        "                  ,subsample = subsample\n",
        "                  ,col_sample_rate = col_sample_rate\n",
        "                  ,colsample_bytree = colsample_bytree\n",
        "                  ,tree_method = \"hist\"\n",
        "                  ,grow_policy = \"lossguide\"\n",
        "                  ,booster = \"gbtree\"\n",
        "                  ,gamma = gamma\n",
        "                  ,nfolds = nfolds\n",
        "                  ,seed = 123\n",
        "                  ,max_depth = max_depth\n",
        "                  ,min_rows = min_rows)\n",
        "  \n",
        "  score <- h2o.performance(model = xgb, xval = TRUE)@metrics[[metrica]]\n",
        "  \n",
        "  # Si la métrica es un error, dado que el proceso es de maximización, se convierte\n",
        "  # en negativo.\n",
        "  score <- -score\n",
        "  return(list(Score = score))\n",
        "}                 "
      ],
      "execution_count": 0,
      "outputs": []
    },
    {
      "cell_type": "markdown",
      "metadata": {
        "id": "ftup7lkrVyu9",
        "colab_type": "text"
      },
      "source": [
        "## Búsqueda de hiperparámetros"
      ]
    },
    {
      "cell_type": "code",
      "metadata": {
        "id": "8ySC5DtLV1iu",
        "colab_type": "code",
        "colab": {}
      },
      "source": [
        "limites <- list( \n",
        "              learn_rate  = c(0.01, 0.3),\n",
        "              max_depth   = c(1L, 50L), \n",
        "              subsample = c(0.5, 1),\n",
        "              min_rows = c(1L, 30L),\n",
        "              col_sample_rate = c(0.4, 1),\n",
        "              colsample_bytree = c(0.5, 1),\n",
        "              gamma = c(1L, 10L),\n",
        "              ntrees = c(100L, 10000L)\n",
        "              )"
      ],
      "execution_count": 0,
      "outputs": []
    },
    {
      "cell_type": "markdown",
      "metadata": {
        "id": "cBitCufAXBmg",
        "colab_type": "text"
      },
      "source": [
        "## Optimización"
      ]
    },
    {
      "cell_type": "code",
      "metadata": {
        "id": "Ts9zhJsgXFEq",
        "colab_type": "code",
        "colab": {
          "base_uri": "https://localhost:8080/",
          "height": 173
        },
        "outputId": "87c078db-c8bd-4b6b-b76a-24a0623d4b63"
      },
      "source": [
        "set.seed(123)\n",
        "bayes_opt <- BayesianOptimization(\n",
        "              FUN = scoring_function, \n",
        "              bounds = limites,\n",
        "              init_points = 4,\n",
        "              n_iter = 10,\n",
        "              acq = \"ucb\",\n",
        "              kappa = 2.576,\n",
        "              eps = 0.0,\n",
        "              verbose = TRUE\n",
        "            )"
      ],
      "execution_count": 0,
      "outputs": [
        {
          "output_type": "stream",
          "text": [
            "elapsed = 663.55\tRound = 1\tlearn_rate = 0.0934\tmax_depth = 47.0000\tsubsample = 0.7757\tmin_rows = 21.0000\tcol_sample_rate = 0.5477\tcolsample_bytree = 0.9448\tgamma = 7.0000\tntrees = 2963.0000\tValue = -0.1118 \n",
            "elapsed = 372.10\tRound = 2\tlearn_rate = 0.2386\tmax_depth = 3.0000\tsubsample = 0.7283\tmin_rows = 18.0000\tcol_sample_rate = 0.4252\tcolsample_bytree = 0.8464\tgamma = 7.0000\tntrees = 1556.0000\tValue = -0.1160 \n",
            "elapsed = 943.13\tRound = 3\tlearn_rate = 0.1286\tmax_depth = 27.0000\tsubsample = 0.9784\tmin_rows = 4.0000\tcol_sample_rate = 0.5968\tcolsample_bytree = 0.8203\tgamma = 6.0000\tntrees = 9634.0000\tValue = -0.1002 \n",
            "elapsed = 360.88\tRound = 4\tlearn_rate = 0.2661\tmax_depth = 45.0000\tsubsample = 0.7267\tmin_rows = 27.0000\tcol_sample_rate = 0.9727\tcolsample_bytree = 0.9971\tgamma = 6.0000\tntrees = 9033.0000\tValue = -0.1138 \n",
            "elapsed = 36.06\tRound = 5\tlearn_rate = 0.2266\tmax_depth = 50.0000\tsubsample = 1.0000\tmin_rows = 12.0000\tcol_sample_rate = 0.8769\tcolsample_bytree = 0.5350\tgamma = 5.0000\tntrees = 100.0000\tValue = -0.1040 \n",
            "elapsed = 24.86\tRound = 6\tlearn_rate = 0.0194\tmax_depth = 3.0000\tsubsample = 1.0000\tmin_rows = 30.0000\tcol_sample_rate = 0.4571\tcolsample_bytree = 1.0000\tgamma = 9.0000\tntrees = 100.0000\tValue = -0.1597 \n"
          ],
          "name": "stdout"
        },
        {
          "output_type": "stream",
          "text": [
            "Warning message:\n",
            "“did not converge in 10 iterations”\n"
          ],
          "name": "stderr"
        }
      ]
    },
    {
      "cell_type": "code",
      "metadata": {
        "id": "Kvktu9eLe0Iu",
        "colab_type": "code",
        "colab": {}
      },
      "source": [
        "xgb"
      ],
      "execution_count": 0,
      "outputs": []
    },
    {
      "cell_type": "markdown",
      "metadata": {
        "id": "OP6YzN9Se34o",
        "colab_type": "text"
      },
      "source": [
        "## Predicciones"
      ]
    },
    {
      "cell_type": "code",
      "metadata": {
        "id": "WX7Y_YEEe3FP",
        "colab_type": "code",
        "colab": {}
      },
      "source": [
        "# ============================= Predicciones ====================================== #\n",
        "\n",
        "# Train\n",
        "predichos_train <- h2o.predict(xgb, datos_train_h2o) %>%\n",
        "  as.data.frame() %>% pull(predict)\n",
        "\n",
        "# Test (Train)\n",
        "predichos_test <- h2o.predict(xgb, datos_test_h2o) %>%\n",
        "  as.data.frame() %>% pull(predict)\n",
        "\n",
        "# Test (Submission)\n",
        "predichos_subm <- h2o.predict(xgb, as.h2o(dataTest)) %>%\n",
        "  as.data.frame() %>% pull(predict)\n",
        "predichos_subm[predichos_subm > 1] <- 1 \n",
        "dataTest %>% \n",
        "  select(Square_ID) %>% \n",
        "  mutate(target = predichos_subm) ->\n",
        "  subm9\n",
        "\n",
        "\n",
        "# Exportando predicciones\n",
        "write.csv(subm9, file = \"subm9.csv\", row.names = FALSE)\n",
        "\n",
        "RMSE <- function(pred, obs, na.rm = FALSE){\n",
        "  sqrt(mean((pred - obs)^2, na.rm = na.rm))\n",
        "}\n",
        "\n",
        "data.frame(\n",
        "  data = c(\"Train\", \"Test\"),\n",
        "  RMSE = c(RMSE(pred = predichos_train, obs = as.vector(datos_train_h2o$target)),\n",
        "           RMSE(pred = predichos_test, obs = as.vector(datos_test_h2o$target)))\n",
        ")"
      ],
      "execution_count": 0,
      "outputs": []
    },
    {
      "cell_type": "markdown",
      "metadata": {
        "id": "azJp5fuIfiDv",
        "colab_type": "text"
      },
      "source": [
        "## Importancia de variables"
      ]
    },
    {
      "cell_type": "code",
      "metadata": {
        "id": "7JvMcXa_fjPp",
        "colab_type": "code",
        "colab": {}
      },
      "source": [
        "h2o.varimp_plot(xgb, num_of_features = ncol(dataTrain))"
      ],
      "execution_count": 0,
      "outputs": []
    },
    {
      "cell_type": "markdown",
      "metadata": {
        "id": "QghsyKGrflG_",
        "colab_type": "text"
      },
      "source": [
        "## Guardar modelo"
      ]
    },
    {
      "cell_type": "code",
      "metadata": {
        "id": "y-tf0yuNfmk6",
        "colab_type": "code",
        "colab": {}
      },
      "source": [
        "h2o.saveModel(xgb, path = \"XGB_Subm9\", force = TRUE)"
      ],
      "execution_count": 0,
      "outputs": []
    },
    {
      "cell_type": "markdown",
      "metadata": {
        "id": "QAhdkjQCfKku",
        "colab_type": "text"
      },
      "source": [
        "## Gráficos"
      ]
    },
    {
      "cell_type": "code",
      "metadata": {
        "id": "OZjglMn0fPC3",
        "colab_type": "code",
        "colab": {}
      },
      "source": [
        "predichos_train <- h2o.predict(xgb, datos_train_h2o) %>%\n",
        "  as.data.frame() %>% pull(predict)\n",
        "hist(predichos_train)"
      ],
      "execution_count": 0,
      "outputs": []
    },
    {
      "cell_type": "code",
      "metadata": {
        "id": "qgsq4yz9faUV",
        "colab_type": "code",
        "colab": {}
      },
      "source": [
        "plot(predichos_train, as.vector(datos_train_h2o$target))"
      ],
      "execution_count": 0,
      "outputs": []
    },
    {
      "cell_type": "code",
      "metadata": {
        "id": "uPXBgAVqfcvf",
        "colab_type": "code",
        "colab": {}
      },
      "source": [
        "predichos_test <- h2o.predict(xgb, datos_test_h2o) %>%\n",
        "  as.data.frame() %>% pull(predict) \n",
        "hist(predichos_test)"
      ],
      "execution_count": 0,
      "outputs": []
    },
    {
      "cell_type": "code",
      "metadata": {
        "id": "TCyduMAkfeOP",
        "colab_type": "code",
        "colab": {}
      },
      "source": [
        "plot(predichos_test, as.vector(datos_test_h2o$target))"
      ],
      "execution_count": 0,
      "outputs": []
    },
    {
      "cell_type": "code",
      "metadata": {
        "id": "CMPlakb6ffZP",
        "colab_type": "code",
        "colab": {}
      },
      "source": [
        "hist(predichos_subm)"
      ],
      "execution_count": 0,
      "outputs": []
    }
  ]
}