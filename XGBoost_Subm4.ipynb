{
  "nbformat": 4,
  "nbformat_minor": 0,
  "metadata": {
    "colab": {
      "name": "Untitled12.ipynb",
      "provenance": [],
      "toc_visible": true,
      "authorship_tag": "ABX9TyNua6TDa7sWoPHiVETSn1GQ"
    },
    "kernelspec": {
      "name": "ir",
      "display_name": "R"
    }
  },
  "cells": [
    {
      "cell_type": "markdown",
      "metadata": {
        "id": "DR-gWFiLaNjh",
        "colab_type": "text"
      },
      "source": [
        "Hackaton: Urban Air Pollution Challenge \n",
        "=============================================\n",
        "Edimer David Jaramillo   \n",
        "Abril de 2020"
      ]
    },
    {
      "cell_type": "markdown",
      "metadata": {
        "id": "NWt1rQvTaazp",
        "colab_type": "text"
      },
      "source": [
        "## Instalando y cargando bibliotecas"
      ]
    },
    {
      "cell_type": "code",
      "metadata": {
        "id": "cBOgT4ucaLvA",
        "colab_type": "code",
        "colab": {}
      },
      "source": [
        "install.packages(\"h2o\", dependencies = TRUE)\n",
        "library(tidyverse)\n",
        "library(h2o)"
      ],
      "execution_count": 0,
      "outputs": []
    },
    {
      "cell_type": "markdown",
      "metadata": {
        "id": "8Nf7sAr_bUpa",
        "colab_type": "text"
      },
      "source": [
        "## Importando datos"
      ]
    },
    {
      "cell_type": "code",
      "metadata": {
        "id": "I37SKrBLbWRS",
        "colab_type": "code",
        "colab": {}
      },
      "source": [
        "load(\"/content/nuevo1_test.Rdata\")\n",
        "load(\"/content/nuevo1_train.Rdata\")"
      ],
      "execution_count": 0,
      "outputs": []
    },
    {
      "cell_type": "markdown",
      "metadata": {
        "id": "r5V4hjDVbXWy",
        "colab_type": "text"
      },
      "source": [
        "## Modelo XGBoost"
      ]
    },
    {
      "cell_type": "code",
      "metadata": {
        "id": "e8fEPyD5ba3y",
        "colab_type": "code",
        "colab": {
          "base_uri": "https://localhost:8080/",
          "height": 459
        },
        "outputId": "62b057ea-16d9-4c71-d7d4-3cb75a1627bd"
      },
      "source": [
        "# Iniciando h2o\n",
        "h2o.init(nthreads = -1, port = 54321, max_mem_size = \"10g\")\n",
        "\n",
        "# Train y Test h2o\n",
        "df_train <- df_train2 %>% \n",
        "  select(-c(1, 2, 3)) %>%\n",
        "  mutate(target = log(target))\n",
        "\n",
        "# Datos h2o\n",
        "datos_h2o <- as.h2o(x = df_train, destination_frame = \"datos_h2o\")\n",
        "\n",
        "particiones <- h2o.splitFrame(data = datos_h2o, ratios = c(0.7, 0.20),\n",
        "                              seed = 123)\n",
        "datos_train_h2o <- h2o.assign(data = particiones[[1]], key = \"datos_train_H2O\")\n",
        "datos_val_h2o   <- h2o.assign(data = particiones[[2]], key = \"datos_val_H2O\")\n",
        "datos_test_h2o  <- h2o.assign(data = particiones[[3]], key = \"datos_test_H2O\")\n",
        "\n",
        "# Se define la variable respuesta y los predictores.\n",
        "var_respuesta <- \"target\"\n",
        "\n",
        "# Para este modelo se emplean todos los predictores disponibles.\n",
        "predictores   <- setdiff(h2o.colnames(datos_train_h2o), var_respuesta)\n",
        "\n",
        "# Modelo XGB h2o\n",
        "xgb <- h2o.xgboost(x = predictores\n",
        "                  ,y = var_respuesta\n",
        "                  ,training_frame = datos_train_h2o\n",
        "                  ,validation_frame = datos_val_h2o\n",
        "                  ,model_id = \"xgb_model_2\"\n",
        "                  ,stopping_rounds = 3\n",
        "                  ,stopping_metric = \"RMSE\"\n",
        "                  ,distribution = \"gaussian\"\n",
        "                  ,score_tree_interval = 1\n",
        "                  ,learn_rate=0.001\n",
        "                  ,ntrees=500\n",
        "                  ,subsample = 0.9\n",
        "                  ,colsample_bytree = 0.9\n",
        "                  ,tree_method = \"hist\"\n",
        "                  ,grow_policy = \"lossguide\"\n",
        "                  ,booster = \"gblinear\"\n",
        "                  ,gamma = 0.0\n",
        "                  ,max_runtime_secs = 3600\n",
        "                  ,nfolds = 10\n",
        "                  ,seed = 123)"
      ],
      "execution_count": 25,
      "outputs": [
        {
          "output_type": "stream",
          "text": [
            " Connection successful!\n",
            "\n",
            "R is connected to the H2O cluster: \n",
            "    H2O cluster uptime:         33 minutes 44 seconds \n",
            "    H2O cluster timezone:       Etc/UTC \n",
            "    H2O data parsing timezone:  UTC \n",
            "    H2O cluster version:        3.30.0.1 \n",
            "    H2O cluster version age:    6 days  \n",
            "    H2O cluster name:           H2O_started_from_R_root_ybq511 \n",
            "    H2O cluster total nodes:    1 \n",
            "    H2O cluster total memory:   9.87 GB \n",
            "    H2O cluster total cores:    2 \n",
            "    H2O cluster allowed cores:  2 \n",
            "    H2O cluster healthy:        TRUE \n",
            "    H2O Connection ip:          localhost \n",
            "    H2O Connection port:        54321 \n",
            "    H2O Connection proxy:       NA \n",
            "    H2O Internal Security:      FALSE \n",
            "    H2O API Extensions:         Amazon S3, XGBoost, Algos, AutoML, Core V3, TargetEncoder, Core V4 \n",
            "    R Version:                  R version 3.6.3 (2020-02-29) \n",
            "\n",
            "  |======================================================================| 100%\n"
          ],
          "name": "stdout"
        },
        {
          "output_type": "stream",
          "text": [
            "Warning message in .h2o.processResponseWarnings(res):\n",
            "“Dropping bad and constant columns: [day_week, month_date, Weekend].\n",
            "”\n"
          ],
          "name": "stderr"
        },
        {
          "output_type": "stream",
          "text": [
            "  |======================================================================| 100%\n"
          ],
          "name": "stdout"
        }
      ]
    },
    {
      "cell_type": "code",
      "metadata": {
        "id": "RFXeI9Ujd6Qb",
        "colab_type": "code",
        "colab": {
          "base_uri": "https://localhost:8080/",
          "height": 1000
        },
        "outputId": "d5f83542-a1e5-49a5-ed23-c95a08c0af57"
      },
      "source": [
        "xgb"
      ],
      "execution_count": 26,
      "outputs": [
        {
          "output_type": "display_data",
          "data": {
            "text/plain": [
              "Model Details:\n",
              "==============\n",
              "\n",
              "H2ORegressionModel: xgboost\n",
              "Model ID:  xgb_model_2 \n",
              "Model Summary: \n",
              "  number_of_trees\n",
              "1             403\n",
              "\n",
              "\n",
              "H2ORegressionMetrics: xgboost\n",
              "** Reported on training data. **\n",
              "\n",
              "MSE:  1.158072\n",
              "RMSE:  1.076137\n",
              "MAE:  0.8480615\n",
              "RMSLE:  0.2388203\n",
              "Mean Residual Deviance :  1.158072\n",
              "\n",
              "\n",
              "H2ORegressionMetrics: xgboost\n",
              "** Reported on validation data. **\n",
              "\n",
              "MSE:  1.153851\n",
              "RMSE:  1.074175\n",
              "MAE:  0.8486688\n",
              "RMSLE:  0.2364666\n",
              "Mean Residual Deviance :  1.153851\n",
              "\n",
              "\n",
              "H2ORegressionMetrics: xgboost\n",
              "** Reported on cross-validation data. **\n",
              "** 10-fold cross-validation on training data (Metrics computed for combined holdout predictions) **\n",
              "\n",
              "MSE:  1.157705\n",
              "RMSE:  1.075967\n",
              "MAE:  0.847904\n",
              "RMSLE:  0.2387808\n",
              "Mean Residual Deviance :  1.157705\n",
              "\n",
              "\n",
              "Cross-Validation Metrics Summary: \n",
              "                              mean           sd cv_1_valid  cv_2_valid\n",
              "mae                      0.8479631  0.015281952 0.83401597  0.85927397\n",
              "mean_residual_deviance   1.1579382  0.043651033  1.1396221   1.1907585\n",
              "mse                      1.1579382  0.043651033  1.1396221   1.1907585\n",
              "r2                     -0.89823985   0.06140907 -0.9769136 -0.85539687\n",
              "residual_deviance        1.1579382  0.043651033  1.1396221   1.1907585\n",
              "rmse                     1.0759023  0.020340402  1.0675309   1.0912188\n",
              "rmsle                   0.23875746 0.0046367324  0.2351506   0.2434478\n",
              "                        cv_3_valid cv_4_valid  cv_5_valid cv_6_valid cv_7_valid\n",
              "mae                      0.8212966  0.8488199    0.852823  0.8486445 0.83023375\n",
              "mean_residual_deviance   1.0843253  1.1475775   1.1679168    1.16719  1.0991627\n",
              "mse                      1.0843253  1.1475775   1.1679168    1.16719  1.0991627\n",
              "r2                     -0.82098794 -0.9238545 -0.87623066 -0.8721408 -0.8331268\n",
              "residual_deviance        1.0843253  1.1475775   1.1679168    1.16719  1.0991627\n",
              "rmse                     1.0413094  1.0712504    1.080702  1.0803657  1.0484096\n",
              "rmsle                   0.23187588 0.23605044  0.24155523 0.24081887 0.23237133\n",
              "                       cv_8_valid cv_9_valid cv_10_valid\n",
              "mae                    0.86812586  0.8657174   0.8506802\n",
              "mean_residual_deviance  1.2191669   1.210809   1.1528535\n",
              "mse                     1.2191669   1.210809   1.1528535\n",
              "r2                     -1.0045459 -0.9437051 -0.87549627\n",
              "residual_deviance       1.2191669   1.210809   1.1528535\n",
              "rmse                    1.1041589  1.1003677   1.0737102\n",
              "rmsle                  0.24550495 0.24049547  0.24030405"
            ]
          },
          "metadata": {
            "tags": []
          }
        }
      ]
    },
    {
      "cell_type": "markdown",
      "metadata": {
        "id": "igWJmc7XeEUu",
        "colab_type": "text"
      },
      "source": [
        "## Predicciones"
      ]
    },
    {
      "cell_type": "code",
      "metadata": {
        "id": "uKuA4-rdeFUn",
        "colab_type": "code",
        "colab": {
          "base_uri": "https://localhost:8080/",
          "height": 205
        },
        "outputId": "216ca0a8-b26c-49b3-f689-bebf6331ea08"
      },
      "source": [
        "# ============================= Predicciones ====================================== #\n",
        "\n",
        "# Train\n",
        "predichos_train <- h2o.predict(xgb, datos_train_h2o) %>%\n",
        "  as.data.frame() %>% pull(predict)\n",
        "\n",
        "# Test (Train)\n",
        "predichos_test <- h2o.predict(xgb, datos_test_h2o) %>%\n",
        "  as.data.frame() %>% pull(predict)\n",
        "\n",
        "# Test (Submission)\n",
        "predichos_subm <- h2o.predict(xgb, as.h2o(df_test2)) %>%\n",
        "  as.data.frame() %>% pull(predict) %>% exp()\n",
        "df_test2 %>% \n",
        "  select(`Place_ID X Date`) %>% \n",
        "  mutate(target = predichos_subm) ->\n",
        "  subm4\n",
        "\n",
        "# Exportando predicciones\n",
        "write.csv(subm4, file = \"subm4.csv\", row.names = FALSE)\n",
        "\n",
        "RMSE <- function(pred, obs, na.rm = FALSE){\n",
        "  sqrt(mean((pred - obs)^2, na.rm = na.rm))\n",
        "}\n",
        "\n",
        "data.frame(\n",
        "  data = c(\"Train\", \"Test\"),\n",
        "  RMSE = c(RMSE(pred = predichos_train, obs = as.vector(datos_train_h2o$target)),\n",
        "           RMSE(pred = predichos_test, obs = as.vector(datos_test_h2o$target)))\n",
        ")"
      ],
      "execution_count": 31,
      "outputs": [
        {
          "output_type": "stream",
          "text": [
            "  |======================================================================| 100%\n",
            "  |======================================================================| 100%\n",
            "  |======================================================================| 100%\n",
            "  |======================================================================| 100%\n"
          ],
          "name": "stdout"
        },
        {
          "output_type": "display_data",
          "data": {
            "text/plain": [
              "  data  RMSE    \n",
              "1 Train 1.076137\n",
              "2 Test  1.087072"
            ],
            "text/latex": "A data.frame: 2 × 2\n\\begin{tabular}{ll}\n data & RMSE\\\\\n <fct> & <dbl>\\\\\n\\hline\n\t Train & 1.076137\\\\\n\t Test  & 1.087072\\\\\n\\end{tabular}\n",
            "text/markdown": "\nA data.frame: 2 × 2\n\n| data &lt;fct&gt; | RMSE &lt;dbl&gt; |\n|---|---|\n| Train | 1.076137 |\n| Test  | 1.087072 |\n\n",
            "text/html": [
              "<table>\n",
              "<caption>A data.frame: 2 × 2</caption>\n",
              "<thead>\n",
              "\t<tr><th scope=col>data</th><th scope=col>RMSE</th></tr>\n",
              "\t<tr><th scope=col>&lt;fct&gt;</th><th scope=col>&lt;dbl&gt;</th></tr>\n",
              "</thead>\n",
              "<tbody>\n",
              "\t<tr><td>Train</td><td>1.076137</td></tr>\n",
              "\t<tr><td>Test </td><td>1.087072</td></tr>\n",
              "</tbody>\n",
              "</table>\n"
            ]
          },
          "metadata": {
            "tags": []
          }
        }
      ]
    }
  ]
}