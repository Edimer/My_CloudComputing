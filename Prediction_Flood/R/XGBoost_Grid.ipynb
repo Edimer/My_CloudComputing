{
  "nbformat": 4,
  "nbformat_minor": 0,
  "metadata": {
    "colab": {
      "name": "Untitled10.ipynb",
      "provenance": [],
      "toc_visible": true,
      "authorship_tag": "ABX9TyPwDoolxYZ5036YF50p0wDF"
    },
    "kernelspec": {
      "name": "ir",
      "display_name": "R"
    }
  },
  "cells": [
    {
      "cell_type": "markdown",
      "metadata": {
        "id": "kvJL9pN8Nzoz",
        "colab_type": "text"
      },
      "source": [
        "# Instalando h2o en Google Colab"
      ]
    },
    {
      "cell_type": "code",
      "metadata": {
        "id": "QhQM-ZdTKdip",
        "colab_type": "code",
        "outputId": "9969f25b-28ad-4da4-fd40-c23c9479ac0f",
        "colab": {
          "base_uri": "https://localhost:8080/",
          "height": 139
        }
      },
      "source": [
        "install.packages(\"h2o\", dependencies = TRUE)"
      ],
      "execution_count": 0,
      "outputs": [
        {
          "output_type": "stream",
          "text": [
            "Installing package into ‘/usr/local/lib/R/site-library’\n",
            "(as ‘lib’ is unspecified)\n",
            "\n",
            "also installing the dependencies ‘httpuv’, ‘xtable’, ‘sourcetools’, ‘fastmap’, ‘miniUI’, ‘webshot’, ‘misc3d’, ‘bitops’, ‘bit’, ‘shiny’, ‘manipulateWidget’, ‘plot3D’, ‘RCurl’, ‘mlbench’, ‘slam’, ‘bit64’, ‘data.table’, ‘rgl’, ‘plot3Drgl’\n",
            "\n",
            "\n"
          ],
          "name": "stderr"
        }
      ]
    },
    {
      "cell_type": "markdown",
      "metadata": {
        "id": "59naW-ZFNnqc",
        "colab_type": "text"
      },
      "source": [
        "# Grid XGBoost (500 modelos)"
      ]
    },
    {
      "cell_type": "code",
      "metadata": {
        "id": "VAIODyOgKiAT",
        "colab_type": "code",
        "outputId": "b998c177-809b-4a8b-d035-24c21e3488ac",
        "colab": {
          "base_uri": "https://localhost:8080/",
          "height": 799
        }
      },
      "source": [
        "# Cargando datos\n",
        "load(\"/content/df_test19.Rdata\")\n",
        "load(\"/content/df_train15.Rdata\")\n",
        "\n",
        "# ======================== Iniciando h2o ====================================== #\n",
        "library(h2o)\n",
        "h2o.init(nthreads = -1, port = 54321, max_mem_size = \"10g\")\n",
        "\n",
        "# ======================= Train - Test h2o ==================================== #\n",
        "\n",
        "# Editando train 2015 y test 2019\n",
        "library(tidyverse)\n",
        "df_train15 <- df_train %>% \n",
        "  dplyr::select(-Square_ID, -flood_15) %>% \n",
        "  mutate_each(funs(replace(., which(is.na(.)), mean(., na.rm=TRUE))))\n",
        "df_test19 <- df_test %>% \n",
        "  dplyr::select(-Square_ID) %>% \n",
        "  mutate_each(funs(replace(., which(is.na(.)), mean(., na.rm=TRUE))))\n",
        "\n",
        "# Datos h2o\n",
        "datos_h2o <- as.h2o(x = df_train15, destination_frame = \"datos_h2o\")\n",
        "\n",
        "particiones <- h2o.splitFrame(data = datos_h2o, ratios = c(0.65, 0.20),\n",
        "                              seed = 123)\n",
        "datos_train_h2o <- h2o.assign(data = particiones[[1]], key = \"datos_train_H2o\")\n",
        "datos_val_h2o   <- h2o.assign(data = particiones[[2]], key = \"datos_val_H2o\")\n",
        "datos_test_h2o  <- h2o.assign(data = particiones[[3]], key = \"datos_test_H2o\")\n",
        "\n",
        "df_test_2019_h2o <- as.h2o(x = df_test19,\n",
        "                           destination_frame = \"datos_test19_h2o\")\n",
        "\n",
        "# Se define la variable respuesta y los predictores.\n",
        "var_respuesta <- \"target_2015\"\n",
        "\n",
        "# Para este modelo se emplean todos los predictores disponibles.\n",
        "predictores   <- setdiff(h2o.colnames(datos_train_h2o), var_respuesta)\n",
        "\n",
        "# ======================= XGBoost Grid =========================================== #\n",
        "hyper_params <- list(ntrees = seq(1, 2000, 2),\n",
        "                     learn_rate = seq(0.0001, 0.5, 0.0001),\n",
        "                     max_depth = seq(1, 20, 1),\n",
        "                     sample_rate = seq(0.2, 1.0, 0.0001),\n",
        "                     col_sample_rate = seq(0.2, 1.0, 0.0001),\n",
        "                     categorical_encoding = c(\"OneHotExplicit\", \"Binary\"),\n",
        "                     distribution = c(\"poisson\", \"gaussian\", \"gamma\"),\n",
        "                     tree_method = \"hist\",\n",
        "                     grow_policy = \"lossguide\",\n",
        "                     booster = c(\"gbtree\", \"gblinear\"),\n",
        "                     reg_lambda = seq(0, 1, 0.01),\n",
        "                     reg_alpha =  seq(0, 1, 0.01),\n",
        "                     min_rows = seq(1, 10, 1),\n",
        "                     max_leaves = seq(1, 20, 1))\n",
        "\n",
        "search_criteria <- list(strategy = \"RandomDiscrete\",\n",
        "                        max_models = 500, \n",
        "                        seed = 123)\n",
        "\n",
        "\n",
        "# Train the grid\n",
        "xgb_grid <- h2o.grid(algorithm = \"xgboost\",\n",
        "                     y = var_respuesta,\n",
        "                     x = predictores,\n",
        "                     training_frame = datos_train_h2o,\n",
        "                     nfolds = 5,\n",
        "                     seed = 123,\n",
        "                     hyper_params = hyper_params,\n",
        "                     search_criteria = search_criteria,\n",
        "                     grid_id = \"grid_xgb\")"
      ],
      "execution_count": 0,
      "outputs": [
        {
          "output_type": "stream",
          "text": [
            " Connection successful!\n",
            "\n",
            "R is connected to the H2O cluster: \n",
            "    H2O cluster uptime:         27 minutes 31 seconds \n",
            "    H2O cluster timezone:       Etc/UTC \n",
            "    H2O data parsing timezone:  UTC \n",
            "    H2O cluster version:        3.30.0.1 \n",
            "    H2O cluster version age:    6 days  \n",
            "    H2O cluster name:           H2O_started_from_R_root_etu167 \n",
            "    H2O cluster total nodes:    1 \n",
            "    H2O cluster total memory:   9.96 GB \n",
            "    H2O cluster total cores:    2 \n",
            "    H2O cluster allowed cores:  2 \n",
            "    H2O cluster healthy:        TRUE \n",
            "    H2O Connection ip:          localhost \n",
            "    H2O Connection port:        54321 \n",
            "    H2O Connection proxy:       NA \n",
            "    H2O Internal Security:      FALSE \n",
            "    H2O API Extensions:         Amazon S3, XGBoost, Algos, AutoML, Core V3, TargetEncoder, Core V4 \n",
            "    R Version:                  R version 3.6.3 (2020-02-29) \n",
            "\n"
          ],
          "name": "stdout"
        },
        {
          "output_type": "stream",
          "text": [
            "Warning message in mean.default(LC_Type1, na.rm = TRUE):\n",
            "“argument is not numeric or logical: returning NA”\n",
            "Warning message in mean.default(long_factor, na.rm = TRUE):\n",
            "“argument is not numeric or logical: returning NA”\n",
            "Warning message in mean.default(lat_factor, na.rm = TRUE):\n",
            "“argument is not numeric or logical: returning NA”\n",
            "Warning message in mean.default(elev_factor, na.rm = TRUE):\n",
            "“argument is not numeric or logical: returning NA”\n",
            "Warning message in mean.default(var_prec, na.rm = TRUE):\n",
            "“argument is not numeric or logical: returning NA”\n",
            "Warning message in mean.default(LC_Type1, na.rm = TRUE):\n",
            "“argument is not numeric or logical: returning NA”\n",
            "Warning message in mean.default(flood_15, na.rm = TRUE):\n",
            "“argument is not numeric or logical: returning NA”\n",
            "Warning message in mean.default(long_factor, na.rm = TRUE):\n",
            "“argument is not numeric or logical: returning NA”\n",
            "Warning message in mean.default(lat_factor, na.rm = TRUE):\n",
            "“argument is not numeric or logical: returning NA”\n",
            "Warning message in mean.default(elev_factor, na.rm = TRUE):\n",
            "“argument is not numeric or logical: returning NA”\n",
            "Warning message in mean.default(var_prec, na.rm = TRUE):\n",
            "“argument is not numeric or logical: returning NA”\n"
          ],
          "name": "stderr"
        },
        {
          "output_type": "stream",
          "text": [
            "  |======================================================================| 100%\n",
            "  |======================================================================| 100%\n",
            "  |======================================================================| 100%\n"
          ],
          "name": "stdout"
        }
      ]
    },
    {
      "cell_type": "markdown",
      "metadata": {
        "id": "e5B22FkiPAga",
        "colab_type": "text"
      },
      "source": [
        "# Resultados Grid XGBoost (ejecución: más de 10 horas)"
      ]
    },
    {
      "cell_type": "code",
      "metadata": {
        "id": "BoUZ2KtOlWX7",
        "colab_type": "code",
        "outputId": "15f999f5-2683-412c-8e14-ab7db4fd9587",
        "colab": {
          "base_uri": "https://localhost:8080/",
          "height": 51
        }
      },
      "source": [
        "# === Guardando Grid XGBoost === #\n",
        "h2o.saveGrid(grid_directory = \"GridXGBoost\", grid_id = \"grid_xgb\")\n",
        "\n",
        "# Resultados\n",
        "resultados_grid_xgb <- h2o.getGrid(grid_id = \"grid_xgb\",\n",
        "                                   sort_by = \"RMSE\",\n",
        "                                   decreasing = FALSE)\n",
        "\n",
        "# === Guardando mejor modelo === #\n",
        "modelo_xgb1 <- h2o.getModel(resultados_grid_xgb@model_ids[[1]])\n",
        "h2o.saveModel(object = modelo_xgb1, path = \"modelo_xgb1\",\n",
        "              force = TRUE)"
      ],
      "execution_count": 0,
      "outputs": [
        {
          "output_type": "display_data",
          "data": {
            "text/plain": [
              "[1] \"GridXGBoost/grid_xgb\""
            ],
            "text/latex": "'GridXGBoost/grid\\_xgb'",
            "text/markdown": "'GridXGBoost/grid_xgb'",
            "text/html": [
              "'GridXGBoost/grid_xgb'"
            ]
          },
          "metadata": {
            "tags": []
          }
        },
        {
          "output_type": "display_data",
          "data": {
            "text/plain": [
              "[1] \"/content/modelo_xgb1/grid_xgb_model_502\""
            ],
            "text/latex": "'/content/modelo\\_xgb1/grid\\_xgb\\_model\\_502'",
            "text/markdown": "'/content/modelo_xgb1/grid_xgb_model_502'",
            "text/html": [
              "'/content/modelo_xgb1/grid_xgb_model_502'"
            ]
          },
          "metadata": {
            "tags": []
          }
        }
      ]
    },
    {
      "cell_type": "code",
      "metadata": {
        "id": "dvcktW6isYca",
        "colab_type": "code",
        "colab": {}
      },
      "source": [
        "filesxgb <- dir('/content/GridXGBoost', full.names = TRUE)\n",
        "zip(zipfile = 'GridXGB', files = filesxgb)"
      ],
      "execution_count": 0,
      "outputs": []
    },
    {
      "cell_type": "code",
      "metadata": {
        "id": "jUmh93yGPCmU",
        "colab_type": "code",
        "outputId": "4f61a7e4-9e76-41a7-dddb-ff7e0d9fbb4e",
        "colab": {
          "base_uri": "https://localhost:8080/",
          "height": 459
        }
      },
      "source": [
        "# Resumen de modelos\n",
        "resultados_grid_xgb"
      ],
      "execution_count": 0,
      "outputs": [
        {
          "output_type": "display_data",
          "data": {
            "text/plain": [
              "H2O Grid Details\n",
              "================\n",
              "\n",
              "Grid ID: grid_xgb \n",
              "Used hyper parameters: \n",
              "  -  learn_rate \n",
              "  -  ntrees \n",
              "Number of models: 505 \n",
              "Number of failed models: 0 \n",
              "\n",
              "Hyper-Parameter Search Summary: ordered by increasing RMSE\n",
              "  learn_rate ntrees          model_ids                rmse\n",
              "1     0.0662   1859 grid_xgb_model_502 0.09947821895174623\n",
              "2     0.1237   1127 grid_xgb_model_344 0.10020306782748674\n",
              "3     0.0362   1963 grid_xgb_model_466 0.10143729627257667\n",
              "4     0.0571   1741 grid_xgb_model_325 0.10153992383037579\n",
              "5     0.0572    549  grid_xgb_model_94 0.10192976181452336\n",
              "\n",
              "---\n",
              "    learn_rate ntrees          model_ids rmse\n",
              "500     0.4223    821 grid_xgb_model_471  NaN\n",
              "501      0.177   1625 grid_xgb_model_476  NaN\n",
              "502     0.2495   1337 grid_xgb_model_477  NaN\n",
              "503     0.2673   1135 grid_xgb_model_497  NaN\n",
              "504     0.1172   1397  grid_xgb_model_52  NaN\n",
              "505     0.1517   1743  grid_xgb_model_66  NaN"
            ]
          },
          "metadata": {
            "tags": []
          }
        }
      ]
    },
    {
      "cell_type": "code",
      "metadata": {
        "id": "vm3xrFNAt3D8",
        "colab_type": "code",
        "outputId": "533fd534-66fb-41f4-8f26-bf479d5cdfe0",
        "colab": {
          "base_uri": "https://localhost:8080/",
          "height": 850
        }
      },
      "source": [
        "modelo_xgb1"
      ],
      "execution_count": 0,
      "outputs": [
        {
          "output_type": "display_data",
          "data": {
            "text/plain": [
              "Model Details:\n",
              "==============\n",
              "\n",
              "H2ORegressionModel: xgboost\n",
              "Model ID:  grid_xgb_model_502 \n",
              "Model Summary: \n",
              "  number_of_trees\n",
              "1            1859\n",
              "\n",
              "\n",
              "H2ORegressionMetrics: xgboost\n",
              "** Reported on training data. **\n",
              "\n",
              "MSE:  0.00110916\n",
              "RMSE:  0.03330405\n",
              "MAE:  0.01498288\n",
              "RMSLE:  0.02604326\n",
              "Mean Residual Deviance :  0.00110916\n",
              "\n",
              "\n",
              "\n",
              "H2ORegressionMetrics: xgboost\n",
              "** Reported on cross-validation data. **\n",
              "** 5-fold cross-validation on training data (Metrics computed for combined holdout predictions) **\n",
              "\n",
              "MSE:  0.009895916\n",
              "RMSE:  0.09947822\n",
              "MAE:  0.03978102\n",
              "RMSLE:  0.07368393\n",
              "Mean Residual Deviance :  0.009895916\n",
              "\n",
              "\n",
              "Cross-Validation Metrics Summary: \n",
              "                              mean           sd  cv_1_valid  cv_2_valid\n",
              "mae                     0.03981459 0.0021149116 0.037006598 0.040222526\n",
              "mean_residual_deviance 0.009914339 8.9008897E-4 0.009099321 0.009551231\n",
              "mse                    0.009914339 8.9008897E-4 0.009099321 0.009551231\n",
              "r2                      0.81531507  0.010990329  0.80899614     0.82462\n",
              "residual_deviance      0.009914339 8.9008897E-4 0.009099321 0.009551231\n",
              "rmse                    0.09949246 0.0044142297 0.095390365   0.0977304\n",
              "rmsle                   0.07370425  0.002466952 0.072022304 0.073766984\n",
              "                        cv_3_valid  cv_4_valid   cv_5_valid\n",
              "mae                     0.04096012 0.038474496  0.042409215\n",
              "mean_residual_deviance 0.010336346 0.009315415 0.0112693785\n",
              "mse                    0.010336346 0.009315415 0.0112693785\n",
              "r2                       0.8146244  0.82746255    0.8008721\n",
              "residual_deviance      0.010336346 0.009315415 0.0112693785\n",
              "rmse                    0.10166782   0.0965164   0.10615733\n",
              "rmsle                   0.07430205  0.07100314   0.07742677"
            ]
          },
          "metadata": {
            "tags": []
          }
        }
      ]
    },
    {
      "cell_type": "markdown",
      "metadata": {
        "id": "mbg3bE99Njez",
        "colab_type": "text"
      },
      "source": [
        "# Prredicciones"
      ]
    },
    {
      "cell_type": "code",
      "metadata": {
        "id": "fK5m3LXKNl8s",
        "colab_type": "code",
        "outputId": "04969664-aa3a-4b0d-e086-f0a143db2b73",
        "colab": {
          "base_uri": "https://localhost:8080/",
          "height": 188
        }
      },
      "source": [
        "# Mejor modelo\n",
        "# ============================= Predicciones ====================================== #\n",
        "\n",
        "# Train 2015\n",
        "predichos_train <- h2o.predict(modelo_xgb1, datos_train_h2o) %>%\n",
        "  as.data.frame() %>% pull(predict)\n",
        "\n",
        "# Test 2015\n",
        "predichos_test <- h2o.predict(modelo_xgb1, datos_test_h2o) %>%\n",
        "  as.data.frame() %>% pull(predict)\n",
        "\n",
        "# Test 2019 (Zindi Submission)\n",
        "predichos_2019 <- h2o.predict(modelo_xgb1, df_test_2019_h2o) %>%\n",
        "  as.data.frame() %>% pull(predict)\n",
        "df_test %>% \n",
        "  select(Square_ID) %>% \n",
        "  mutate(target_2019 = predichos_2019) ->\n",
        "  predicciones47\n",
        "\n",
        "# Exportando predicciones\n",
        "write.csv(predicciones47, file = \"Submussion47.csv\", row.names = FALSE)\n",
        "\n",
        "RMSE <- function(pred, obs, na.rm = FALSE){\n",
        "  sqrt(mean((pred - obs)^2, na.rm = na.rm))\n",
        "}\n",
        "\n",
        "data.frame(\n",
        "  data = c(\"Train\", \"Test\"),\n",
        "  RMSE = c(RMSE(pred = predichos_train, obs = as.vector(datos_train_h2o$target_2015)),\n",
        "           RMSE(pred = predichos_test, obs = as.vector(datos_test_h2o$target_2015)))\n",
        ")"
      ],
      "execution_count": 0,
      "outputs": [
        {
          "output_type": "stream",
          "text": [
            "  |======================================================================| 100%\n",
            "  |======================================================================| 100%\n",
            "  |======================================================================| 100%\n"
          ],
          "name": "stdout"
        },
        {
          "output_type": "display_data",
          "data": {
            "text/plain": [
              "  data  RMSE      \n",
              "1 Train 0.03330405\n",
              "2 Test  0.10280526"
            ],
            "text/latex": "A data.frame: 2 × 2\n\\begin{tabular}{ll}\n data & RMSE\\\\\n <fct> & <dbl>\\\\\n\\hline\n\t Train & 0.03330405\\\\\n\t Test  & 0.10280526\\\\\n\\end{tabular}\n",
            "text/markdown": "\nA data.frame: 2 × 2\n\n| data &lt;fct&gt; | RMSE &lt;dbl&gt; |\n|---|---|\n| Train | 0.03330405 |\n| Test  | 0.10280526 |\n\n",
            "text/html": [
              "<table>\n",
              "<caption>A data.frame: 2 × 2</caption>\n",
              "<thead>\n",
              "\t<tr><th scope=col>data</th><th scope=col>RMSE</th></tr>\n",
              "\t<tr><th scope=col>&lt;fct&gt;</th><th scope=col>&lt;dbl&gt;</th></tr>\n",
              "</thead>\n",
              "<tbody>\n",
              "\t<tr><td>Train</td><td>0.03330405</td></tr>\n",
              "\t<tr><td>Test </td><td>0.10280526</td></tr>\n",
              "</tbody>\n",
              "</table>\n"
            ]
          },
          "metadata": {
            "tags": []
          }
        }
      ]
    },
    {
      "cell_type": "code",
      "metadata": {
        "id": "s_vl8xvjX8Il",
        "colab_type": "code",
        "outputId": "4e575c65-2323-408c-80c2-62dc3a39c6d5",
        "colab": {
          "base_uri": "https://localhost:8080/",
          "height": 437
        }
      },
      "source": [
        "hist(predicciones47$target_2019)"
      ],
      "execution_count": 0,
      "outputs": [
        {
          "output_type": "display_data",
          "data": {
            "image/png": "[encoded data removed]",
            "text/plain": [
              "Plot with title “Histogram of predicciones47$target_2019”"
            ]
          },
          "metadata": {
            "tags": [],
            "image/png": {
              "width": 420,
              "height": 420
            },
            "text/plain": {
              "width": 420,
              "height": 420
            }
          }
        }
      ]
    },
    {
      "cell_type": "code",
      "metadata": {
        "id": "Azrj7xwRuPHF",
        "colab_type": "code",
        "outputId": "e9d39a37-3cc6-4343-a281-852e7d1e389a",
        "colab": {
          "base_uri": "https://localhost:8080/",
          "height": 437
        }
      },
      "source": [
        "hist(predichos_train)"
      ],
      "execution_count": 0,
      "outputs": [
        {
          "output_type": "display_data",
          "data": {
            "image/png": "[encoded data removed]",
            "text/plain": [
              "Plot with title “Histogram of predichos_train”"
            ]
          },
          "metadata": {
            "tags": [],
            "image/png": {
              "width": 420,
              "height": 420
            },
            "text/plain": {
              "width": 420,
              "height": 420
            }
          }
        }
      ]
    },
    {
      "cell_type": "code",
      "metadata": {
        "id": "LvW-s8Tuubh4",
        "colab_type": "code",
        "outputId": "458a6d43-cbad-4e5e-d3f4-aa9d00055a0c",
        "colab": {
          "base_uri": "https://localhost:8080/",
          "height": 437
        }
      },
      "source": [
        "hist(predichos_test)"
      ],
      "execution_count": 0,
      "outputs": [
        {
          "output_type": "display_data",
          "data": {
            "image/png": "[encoded data removed]",
            "text/plain": [
              "Plot with title “Histogram of predichos_test”"
            ]
          },
          "metadata": {
            "tags": [],
            "image/png": {
              "width": 420,
              "height": 420
            },
            "text/plain": {
              "width": 420,
              "height": 420
            }
          }
        }
      ]
    },
    {
      "cell_type": "code",
      "metadata": {
        "id": "1UrB5YM2uhAN",
        "colab_type": "code",
        "outputId": "50e4f362-db40-4c06-91db-6937fae998d6",
        "colab": {
          "base_uri": "https://localhost:8080/",
          "height": 68
        }
      },
      "source": [
        "table(predichos_2019 > 1)"
      ],
      "execution_count": 0,
      "outputs": [
        {
          "output_type": "display_data",
          "data": {
            "text/plain": [
              "\n",
              "FALSE  TRUE \n",
              "16114   352 "
            ]
          },
          "metadata": {
            "tags": []
          }
        }
      ]
    },
    {
      "cell_type": "code",
      "metadata": {
        "id": "NbU61CYpujbF",
        "colab_type": "code",
        "outputId": "b286b13b-c4e3-4619-e823-1b770c0d6305",
        "colab": {
          "base_uri": "https://localhost:8080/",
          "height": 68
        }
      },
      "source": [
        "table(predichos_2019 < 0)"
      ],
      "execution_count": 0,
      "outputs": [
        {
          "output_type": "display_data",
          "data": {
            "text/plain": [
              "\n",
              "FALSE  TRUE \n",
              "15992   474 "
            ]
          },
          "metadata": {
            "tags": []
          }
        }
      ]
    },
    {
      "cell_type": "code",
      "metadata": {
        "id": "iIHtsF2OunHd",
        "colab_type": "code",
        "outputId": "d408658e-c177-42fb-cb76-c8bcb4b36aad",
        "colab": {
          "base_uri": "https://localhost:8080/",
          "height": 437
        }
      },
      "source": [
        "# Exportando predicciones\n",
        "predicciones47$target_2019[predicciones47$target_2019 > 1] = 1\n",
        "predicciones47$target_2019[predicciones47$target_2019 < 0] = 0\n",
        "hist(predicciones47$target_2019)"
      ],
      "execution_count": 0,
      "outputs": [
        {
          "output_type": "display_data",
          "data": {
            "image/png": "[encoded data removed]",
            "text/plain": [
              "Plot with title “Histogram of predicciones47$target_2019”"
            ]
          },
          "metadata": {
            "tags": [],
            "image/png": {
              "width": 420,
              "height": 420
            },
            "text/plain": {
              "width": 420,
              "height": 420
            }
          }
        }
      ]
    },
    {
      "cell_type": "code",
      "metadata": {
        "id": "sJ2EKKxKvOWU",
        "colab_type": "code",
        "colab": {}
      },
      "source": [
        "write.csv(predicciones47, file = \"Submussion47.csv\", row.names = FALSE)"
      ],
      "execution_count": 0,
      "outputs": []
    },
    {
      "cell_type": "markdown",
      "metadata": {
        "id": "yA9PBxs2vv0D",
        "colab_type": "text"
      },
      "source": [
        "# Predicciones Modelo 2"
      ]
    },
    {
      "cell_type": "code",
      "metadata": {
        "id": "ZgY_R7qZvxqt",
        "colab_type": "code",
        "outputId": "654bb129-62c4-4f58-9fac-5903bc9f483a",
        "colab": {
          "base_uri": "https://localhost:8080/",
          "height": 188
        }
      },
      "source": [
        "# Mejor modelo\n",
        "modelo_xgb2 <- h2o.getModel(resultados_grid_xgb@model_ids[[2]])\n",
        "# ============================= Predicciones ====================================== #\n",
        "\n",
        "# Train 2015\n",
        "predichos_train <- h2o.predict(modelo_xgb2, datos_train_h2o) %>%\n",
        "  as.data.frame() %>% pull(predict)\n",
        "\n",
        "# Test 2015\n",
        "predichos_test <- h2o.predict(modelo_xgb2, datos_test_h2o) %>%\n",
        "  as.data.frame() %>% pull(predict)\n",
        "\n",
        "# Test 2019 (Zindi Submission)\n",
        "predichos_2019 <- h2o.predict(modelo_xgb2, df_test_2019_h2o) %>%\n",
        "  as.data.frame() %>% pull(predict)\n",
        "df_test %>% \n",
        "  select(Square_ID) %>% \n",
        "  mutate(target_2019 = predichos_2019) ->\n",
        "  predicciones48\n",
        "\n",
        "RMSE <- function(pred, obs, na.rm = FALSE){\n",
        "  sqrt(mean((pred - obs)^2, na.rm = na.rm))\n",
        "}\n",
        "\n",
        "data.frame(\n",
        "  data = c(\"Train\", \"Test\"),\n",
        "  RMSE = c(RMSE(pred = predichos_train, obs = as.vector(datos_train_h2o$target_2015)),\n",
        "           RMSE(pred = predichos_test, obs = as.vector(datos_test_h2o$target_2015)))\n",
        ")\n"
      ],
      "execution_count": 0,
      "outputs": [
        {
          "output_type": "stream",
          "text": [
            "  |======================================================================| 100%\n",
            "  |======================================================================| 100%\n",
            "  |======================================================================| 100%\n"
          ],
          "name": "stdout"
        },
        {
          "output_type": "display_data",
          "data": {
            "text/plain": [
              "  data  RMSE      \n",
              "1 Train 0.03902775\n",
              "2 Test  0.10288270"
            ],
            "text/latex": "A data.frame: 2 × 2\n\\begin{tabular}{ll}\n data & RMSE\\\\\n <fct> & <dbl>\\\\\n\\hline\n\t Train & 0.03902775\\\\\n\t Test  & 0.10288270\\\\\n\\end{tabular}\n",
            "text/markdown": "\nA data.frame: 2 × 2\n\n| data &lt;fct&gt; | RMSE &lt;dbl&gt; |\n|---|---|\n| Train | 0.03902775 |\n| Test  | 0.10288270 |\n\n",
            "text/html": [
              "<table>\n",
              "<caption>A data.frame: 2 × 2</caption>\n",
              "<thead>\n",
              "\t<tr><th scope=col>data</th><th scope=col>RMSE</th></tr>\n",
              "\t<tr><th scope=col>&lt;fct&gt;</th><th scope=col>&lt;dbl&gt;</th></tr>\n",
              "</thead>\n",
              "<tbody>\n",
              "\t<tr><td>Train</td><td>0.03902775</td></tr>\n",
              "\t<tr><td>Test </td><td>0.10288270</td></tr>\n",
              "</tbody>\n",
              "</table>\n"
            ]
          },
          "metadata": {
            "tags": []
          }
        }
      ]
    },
    {
      "cell_type": "code",
      "metadata": {
        "id": "juXOuqqEwCr-",
        "colab_type": "code",
        "colab": {}
      },
      "source": [
        "# Exportando predicciones\n",
        "write.csv(predicciones48, file = \"Submussion48.csv\", row.names = FALSE)"
      ],
      "execution_count": 0,
      "outputs": []
    }
  ]
}